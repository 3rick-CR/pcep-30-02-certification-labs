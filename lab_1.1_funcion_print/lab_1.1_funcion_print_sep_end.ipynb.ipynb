{
 "cells": [
  {
   "cell_type": "markdown",
   "id": "38a539da-1526-4280-9b53-7bb108142be2",
   "metadata": {},
   "source": [
    "# LABORATORIO_1.1: La función print()"
   ]
  },
  {
   "cell_type": "markdown",
   "id": "cbfd71a7-9410-4f0e-8de8-58b52ac98677",
   "metadata": {},
   "source": [
    "## Objetivos: "
   ]
  },
  {
   "cell_type": "markdown",
   "id": "66f78ef9-5de9-46ff-9e89-d2bc87f567b8",
   "metadata": {},
   "source": [
    "* Familiarizarse con la función de print() y sus capacidades de formato.\n",
    "* Experimentar con el código de Python."
   ]
  },
  {
   "cell_type": "markdown",
   "id": "af867be4-92ac-4109-a5b9-166b0aaa12a5",
   "metadata": {},
   "source": [
    "# Nivel de dificultad\n",
    " Muy facil"
   ]
  },
  {
   "cell_type": "markdown",
   "id": "3e6406c8-148e-47e3-866c-5916a5df4eee",
   "metadata": {},
   "source": [
    "# Escenario:\n",
    "\n",
    "Modifica la primera línea de código en el editor, utilizando las palabras clave sep y end, para que coincida con el resultado esperado. Recuerda, utilizar dos funciones print().\n",
    "\n",
    "No cambies nada en la segunda invocación de print()."
   ]
  },
  {
   "cell_type": "markdown",
   "id": "b0ada614-096c-4b85-ba62-5f61c2a98666",
   "metadata": {},
   "source": [
    "## Salida Esperada:\n"
   ]
  },
  {
   "cell_type": "markdown",
   "id": "fe9e5bd6-712e-425e-8555-9bcf7814c087",
   "metadata": {},
   "source": [
    "Fundamentos***Programación***en...Python"
   ]
  },
  {
   "cell_type": "code",
   "execution_count": null,
   "id": "cb8992c1-d6f9-4989-b6d9-5f65e7009ef5",
   "metadata": {},
   "outputs": [
    {
     "name": "stdout",
     "output_type": "stream",
     "text": [
      "Fundamentos Programación en\n",
      "Python\n"
     ]
    }
   ],
   "source": [
    "#codigo del editor\n",
    "print(\"Fundamentos\",\"Programación\",\"en\")\n",
    "print(\"Python\")"
   ]
  },
  {
   "cell_type": "markdown",
   "id": "5044d542-845f-44ea-a691-f1755326d68a",
   "metadata": {},
   "source": [
    "## Solucion:"
   ]
  },
  {
   "cell_type": "code",
   "execution_count": null,
   "id": "acfdd6ec-024c-4627-955b-2e3418768778",
   "metadata": {},
   "outputs": [
    {
     "name": "stdout",
     "output_type": "stream",
     "text": [
      "Fundamentos***Programación***en...Python\n"
     ]
    }
   ],
   "source": [
    "print(\"Fundamentos\",\"Programación\",\"en\", sep='***',end='...')\n",
    "print(\"Python\")"
   ]
  }
 ],
 "metadata": {
  "kernelspec": {
   "display_name": "Python 3 (ipykernel)",
   "language": "python",
   "name": "python3"
  },
  "language_info": {
   "codemirror_mode": {
    "name": "ipython",
    "version": 3
   },
   "file_extension": ".py",
   "mimetype": "text/x-python",
   "name": "python",
   "nbconvert_exporter": "python",
   "pygments_lexer": "ipython3",
   "version": "3.13.5"
  }
 },
 "nbformat": 4,
 "nbformat_minor": 5
}
