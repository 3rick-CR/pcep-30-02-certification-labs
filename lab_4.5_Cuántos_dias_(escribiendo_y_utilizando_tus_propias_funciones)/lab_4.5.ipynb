{
 "cells": [
  {
   "cell_type": "markdown",
   "id": "ad6ec2a8-1d0e-43d4-8f74-28d6d26b176c",
   "metadata": {},
   "source": [
    "# LABORATORIO 4.5: ¿Cuántos días?: escribiendo y utilizando tus propias funciones"
   ]
  },
  {
   "cell_type": "markdown",
   "id": "442c2836-7331-4335-aeda-9c5a3a787ef7",
   "metadata": {},
   "source": [
    "## Objetivos\n",
    "Familiarizar al estudiante con:\n",
    "\n",
    "* Proyectar y escribir funciones parametrizadas.\n",
    "* Utilizar la instrucción return.\n",
    "* Utilizar las funciones propias del estudiante.\n",
    "\n",
    "## Nivel de Dificultad:\n",
    "Medio\n",
    "\n",
    "## Requisitos Previos:\n",
    "LABORATORIO 4.4\n",
    "\n",
    "## Escenario:\n",
    "Tu tarea es escribir y probar una función que toma dos argumentos (un año y un mes) y devuelve el número de días del mes/año dado (mientras que solo febrero es sensible al valor year, tu función debería ser universal).\n",
    "\n",
    "La parte inicial de la función está lista. Ahora, haz que la función devuelva None si los argumentos no tienen sentido.\n",
    "\n",
    "Por supuesto, puedes (y debes) utilizar la función previamente escrita y probada (LABORATORIO 4.4). Puede ser muy útil. Te recomendamos que utilices una lista con los meses. Puedes crearla dentro de la función; este truco acortará significativamente el código.\n",
    "\n",
    "Hemos preparado un código de prueba:"
   ]
  },
  {
   "cell_type": "code",
   "execution_count": null,
   "id": "69e00168-a99a-4c5e-acd4-9f2b68920c95",
   "metadata": {},
   "outputs": [],
   "source": [
    "\"\"\"\n",
    "def is_year_leap(year):\n",
    "#\n",
    "# Tu código del LABORATORIO 4.4\n",
    "#\n",
    "\n",
    "def days_in_month(year, month):\n",
    "#\n",
    "# Escribe tu código aquí.\n",
    "#\n",
    "\n",
    "test_years = [1900, 2000, 2016, 1987]\n",
    "test_months = [2, 2, 1, 11]\n",
    "test_results = [28, 29, 31, 30]\n",
    "for i in range(len(test_years)):\n",
    "\tyr = test_years[i]\n",
    "\tmo = test_months[i]\n",
    "\tprint(yr, mo, \"->\", end=\"\")\n",
    "\tresult = days_in_month(yr, mo)\n",
    "\tif result == test_results[i]:\n",
    "\t\tprint(\"OK\")\n",
    "\telse:\n",
    "\t\tprint(\"Fallido\")\n",
    "\"\"\""
   ]
  },
  {
   "cell_type": "markdown",
   "id": "c6e473f0-40ac-477b-9daa-9f440ac61f69",
   "metadata": {},
   "source": [
    "## Solución:"
   ]
  },
  {
   "cell_type": "code",
   "execution_count": 1,
   "id": "43237afe-e30c-4932-9f9c-bb8ad16a5040",
   "metadata": {},
   "outputs": [
    {
     "name": "stdout",
     "output_type": "stream",
     "text": [
      "1900 2 ->OK\n",
      "2000 2 ->OK\n",
      "2016 1 ->OK\n",
      "1987 11 ->OK\n"
     ]
    }
   ],
   "source": [
    "def is_year_leap(year):\n",
    "    \n",
    "    if year % 4 == 0 and year % 100 != 0 or year % 400 == 0:\n",
    "        bisiesto = True\n",
    "    else:\n",
    "        bisiesto = False\n",
    "    \n",
    "    return bisiesto\n",
    "\n",
    "def days_in_month(year, month):\n",
    "\n",
    "    months = [1, 2, 3, 4, 5, 6, 7, 8, 9, 10, 11, 12]\n",
    "    days_month = [31, 28, 31, 30, 31, 30, 31, 31, 30, 31, 30, 31]\n",
    "\n",
    "    if month not in months:\n",
    "        return\n",
    "    \n",
    "    bisiesto = is_year_leap(year)\n",
    "\n",
    "    #obtener el numero de dias que corresponden a determinado mes\n",
    "    month = months.index(month)\n",
    "    days = days_month[month]\n",
    "\n",
    "    if bisiesto == True and month == 1:\n",
    "        days = 29\n",
    "    \n",
    "    return days\n",
    "            \n",
    "\n",
    "test_years = [1900, 2000, 2016, 1987]\n",
    "test_months = [2, 2, 1, 11]\n",
    "test_results = [28, 29, 31, 30]\n",
    "for i in range(len(test_years)):\n",
    "\tyr = test_years[i]\n",
    "\tmo = test_months[i]\n",
    "\tprint(yr, mo, \"->\", end=\"\")\n",
    "\tresult = days_in_month(yr, mo)\n",
    "\tif result == test_results[i]:\n",
    "\t\tprint(\"OK\")\n",
    "\telse:\n",
    "\t\tprint(\"Fallido\")"
   ]
  }
 ],
 "metadata": {
  "kernelspec": {
   "display_name": "Python 3 (ipykernel)",
   "language": "python",
   "name": "python3"
  },
  "language_info": {
   "codemirror_mode": {
    "name": "ipython",
    "version": 3
   },
   "file_extension": ".py",
   "mimetype": "text/x-python",
   "name": "python",
   "nbconvert_exporter": "python",
   "pygments_lexer": "ipython3",
   "version": "3.13.5"
  }
 },
 "nbformat": 4,
 "nbformat_minor": 5
}
