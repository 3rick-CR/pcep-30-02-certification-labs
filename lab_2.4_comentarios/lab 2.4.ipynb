{
 "cells": [
  {
   "cell_type": "markdown",
   "id": "7bf6f7de-b9fb-47e4-aa00-6dfd88ab7182",
   "metadata": {},
   "source": [
    "# LABORATORIO 2.4: Comentarios\n",
    "\n",
    "## Objetivos:\n",
    "* Familiarizarse con el concepto de comentarios en Python.\n",
    "* Utilizar y no utilizar los comentarios.\n",
    "* Reemplazar los comentarios con código.\n",
    "* Experimentar con el código de Python.\n",
    "\n",
    "## Nivel de Dificultad:\n",
    "Muy Fácil\n",
    "\n",
    "## Escenario:\n",
    "El código en el editor contiene comentarios. Intenta mejorarlo: agrega o quita comentarios donde consideres que sea apropiado (en ocasiones el remover un comentario lo hace mas legible), además, cambia el nombre de las variables donde consideres que esto mejorará la comprensión del código."
   ]
  },
  {
   "cell_type": "code",
   "execution_count": 1,
   "id": "450f794b-d201-4366-8335-b9b7a31c014e",
   "metadata": {},
   "outputs": [
    {
     "name": "stdout",
     "output_type": "stream",
     "text": [
      "Horas:  2\n",
      "Segundos en Horas:  7200\n"
     ]
    }
   ],
   "source": [
    "# este programa calcula los segundos en cierto número de horas determinadas \n",
    "# este programa fue escrito hace dos días\n",
    "\n",
    "a = 2 # número de horas\n",
    "seconds = 3600 # número de segundos en una hora\n",
    "\n",
    "print(\"Horas: \", a) #imprime el numero de horas\n",
    "print(\"Segundos en Horas: \", a * seconds) # se imprime el numero de segundos en determinado numero de horas\n",
    "\n",
    "#aquí también se debe de imprimir un \"Adiós\", pero el programador no tuvo tiempo de escribirlo\n",
    "#este el es fin del programa que calcula el numero de segundos en 2 horas"
   ]
  },
  {
   "cell_type": "markdown",
   "id": "74327b27-aab9-4dae-9bcb-3820cc5a4cc3",
   "metadata": {},
   "source": [
    "## Solución:"
   ]
  },
  {
   "cell_type": "code",
   "execution_count": 2,
   "id": "ebdf8c4f-d13d-42a6-bc08-08bfeaa5ef2d",
   "metadata": {},
   "outputs": [
    {
     "name": "stdout",
     "output_type": "stream",
     "text": [
      "Horas: 2\n",
      "Segundos en Horas: 7200\n",
      "El programa finalizo correctamente hasta luego!\n"
     ]
    }
   ],
   "source": [
    "# Este programa calcula el número de segundos que hay dentro de un determinado numero de horas\n",
    "\n",
    "horas = 2  # Cantidad de horas\n",
    "segundos_por_hora = 3600  # Número de segundos en una hora\n",
    "\n",
    "# Mostrar la cantidad de horas\n",
    "print(\"Horas:\", horas)\n",
    "\n",
    "# Mostrar la cantidad total de segundos\n",
    "print(\"Segundos en Horas:\", horas * segundos_por_hora)\n",
    "\n",
    "# Mensaje de despedida\n",
    "print(\"El programa finalizo correctamente hasta luego!\")"
   ]
  },
  {
   "cell_type": "code",
   "execution_count": null,
   "id": "824e3572-674c-48a5-b3ed-5b5d6918253a",
   "metadata": {},
   "outputs": [],
   "source": []
  }
 ],
 "metadata": {
  "kernelspec": {
   "display_name": "Python 3 (ipykernel)",
   "language": "python",
   "name": "python3"
  },
  "language_info": {
   "codemirror_mode": {
    "name": "ipython",
    "version": 3
   },
   "file_extension": ".py",
   "mimetype": "text/x-python",
   "name": "python",
   "nbconvert_exporter": "python",
   "pygments_lexer": "ipython3",
   "version": "3.13.5"
  }
 },
 "nbformat": 4,
 "nbformat_minor": 5
}
