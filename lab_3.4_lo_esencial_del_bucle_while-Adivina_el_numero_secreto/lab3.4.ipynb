{
 "cells": [
  {
   "cell_type": "markdown",
   "id": "a22e125f-df53-4a11-8853-28c44f4225fe",
   "metadata": {},
   "source": [
    "# LABORATORIO 3.3: Lo esencial del bucle while - Adivina el número secreto"
   ]
  },
  {
   "cell_type": "markdown",
   "id": "016e3f17-7ad1-471c-b8bf-ecb9952a1187",
   "metadata": {},
   "source": [
    "# Objetivos:\n",
    "Familiarizar al estudiante con:\n",
    "\n",
    "* Utilizar el bucle while.\n",
    "* Reflejar situaciones de la vida real en código de computadora.\n",
    "\n",
    "# Nivel de Dificultad:\n",
    "Fácil\n",
    "\n",
    "# Escenario:\n",
    "Un mago junior ha elegido un número secreto. Lo ha escondido en una variable llamada secret_number. Quiere que todos los que ejecutan su programa jueguen el juego Adivina el número secreto, y adivina qué número ha elegido para ellos. ¡Quiénes no adivinen el número quedarán atrapados en un bucle sin fin para siempre! Desafortunadamente, él no sabe cómo completar el código.\n",
    "\n",
    "Tu tarea es ayudar al mago a completar el código en el editor de tal manera que el código:\n",
    "\n",
    "* Pedirá al usuario que ingrese un número entero.\n",
    "  \n",
    "* Utilizará un bucle while.\n",
    "\n",
    "* Comprobará si el número ingresado por el usuario es el mismo que el número escogido por el mago. Si el número elegido por el usuario es diferente al número secreto del mago, el usuario debería ver el mensaje \"¡Ja, ja! ¡Estás atrapado en mi bucle!\"  y se le solicitará que ingrese un número nuevamente. Si el número ingresado por el usuario coincide con el número escogido por el mago, el número debe imprimirse en la pantalla, y el mago debe decir las siguientes palabras: \"¡Bien hecho, muggle! Eres libre ahora\"."
   ]
  },
  {
   "cell_type": "markdown",
   "id": "2701e9e2-f62a-49a2-9d3d-c5e238cf1eec",
   "metadata": {},
   "source": [
    "# Solucion:"
   ]
  },
  {
   "cell_type": "code",
   "execution_count": 1,
   "id": "13b6e427-c997-47d7-a05c-9ca5ffe0cf85",
   "metadata": {},
   "outputs": [
    {
     "name": "stdout",
     "output_type": "stream",
     "text": [
      "\n",
      "+==================================+\n",
      "| ¡Bienvenido a mi juego, muggle!  |\n",
      "| Introduce un número entero       |\n",
      "| y adivina qué número he          |\n",
      "| elegido para ti.                 |\n",
      "| Entonces,                        |\n",
      "| ¿Cuál es el número secreto?      |\n",
      "+==================================+\n",
      "\n"
     ]
    },
    {
     "name": "stdin",
     "output_type": "stream",
     "text": [
      "Introduce un numero:  13\n"
     ]
    },
    {
     "name": "stdout",
     "output_type": "stream",
     "text": [
      "¡Ja, ja! ¡Estás atrapado en mi bucle!\n"
     ]
    },
    {
     "name": "stdin",
     "output_type": "stream",
     "text": [
      "Introduce un numero:  732\n"
     ]
    },
    {
     "name": "stdout",
     "output_type": "stream",
     "text": [
      "¡Ja, ja! ¡Estás atrapado en mi bucle!\n"
     ]
    },
    {
     "name": "stdin",
     "output_type": "stream",
     "text": [
      "Introduce un numero:  777\n"
     ]
    },
    {
     "name": "stdout",
     "output_type": "stream",
     "text": [
      "777 ¡Bien hecho, muggle! Eres libre ahora\n"
     ]
    }
   ],
   "source": [
    "secret_number = 777\n",
    "numero = 0\n",
    "\n",
    "print(\n",
    "\"\"\"\n",
    "+==================================+\n",
    "| ¡Bienvenido a mi juego, muggle!  |\n",
    "| Introduce un número entero       |\n",
    "| y adivina qué número he          |\n",
    "| elegido para ti.                 |\n",
    "| Entonces,                        |\n",
    "| ¿Cuál es el número secreto?      |\n",
    "+==================================+\n",
    "\"\"\")\n",
    "\n",
    "while numero != secret_number:\n",
    "    \n",
    "    numero = int(input(\"Introduce un numero: \"))\n",
    "    if numero != secret_number:\n",
    "        print(\"¡Ja, ja! ¡Estás atrapado en mi bucle!\")\n",
    "\n",
    "print(numero, \"¡Bien hecho, muggle! Eres libre ahora\" )\n",
    "        "
   ]
  },
  {
   "cell_type": "code",
   "execution_count": null,
   "id": "2d832c66-cdbf-4756-987c-21d12a10d1ef",
   "metadata": {},
   "outputs": [],
   "source": []
  }
 ],
 "metadata": {
  "kernelspec": {
   "display_name": "Python 3 (ipykernel)",
   "language": "python",
   "name": "python3"
  },
  "language_info": {
   "codemirror_mode": {
    "name": "ipython",
    "version": 3
   },
   "file_extension": ".py",
   "mimetype": "text/x-python",
   "name": "python",
   "nbconvert_exporter": "python",
   "pygments_lexer": "ipython3",
   "version": "3.13.5"
  }
 },
 "nbformat": 4,
 "nbformat_minor": 5
}
