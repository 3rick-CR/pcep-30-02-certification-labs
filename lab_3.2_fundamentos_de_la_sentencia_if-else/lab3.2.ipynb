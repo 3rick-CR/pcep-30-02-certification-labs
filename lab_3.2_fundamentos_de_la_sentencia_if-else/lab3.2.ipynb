{
 "cells": [
  {
   "cell_type": "markdown",
   "id": "d702c1c8-ce3a-4ff9-a221-70822a6e3103",
   "metadata": {},
   "source": [
    "# LABORATORIO 3.2: Fundamentos de la sentencia if-else"
   ]
  },
  {
   "cell_type": "markdown",
   "id": "5e223b03-b9ea-468b-80e6-eea2493b5f92",
   "metadata": {},
   "source": [
    "## Objetivos:\n",
    "Familiarizar al estudiante con:\n",
    "\n",
    "* Utilizar la sentencia if-else para ramificar la ruta de control.\n",
    "* Construir un programa completo que resuelva problemas simples de la vida real.\n",
    "* \n",
    "## Nivel de Dificultad:\n",
    "Fácil/Medio\n",
    "\n",
    "## Escenario:\n",
    "Érase una vez una tierra de leche y miel, habitada por gente feliz y próspera. La gente pagaba impuestos, por supuesto, su felicidad tenía límites. El impuesto más importante, denominado Impuesto Personal de Ingresos (IPI, para abreviar) tenía que pagarse una vez al año y se evaluó utilizando la siguiente regla:\n",
    "\n",
    "* Si el ingreso del ciudadano no era superior a 85,528 pesos, el impuesto era igual al 18% del ingreso menos 556 pesos y 2 centavos (esta fue la llamada exención fiscal).\n",
    "\n",
    "* Si el ingreso era superior a esta cantidad, el impuesto era igual a 14,839 pesos y 2 centavos, más el 32% del excedente sobre 85,528 pesos.\n",
    "\n",
    "Tu tarea es escribir una calculadora de impuestos.\n",
    "\n",
    "* Debe aceptar un valor de punto flotante: el ingreso.\n",
    "\n",
    "* A continuación, debe imprimir el impuesto calculado, redondeado a pesos totales. Hay una función llamada round() que hará el redondeo por ti, la encontrarás en el código de esqueleto del editor.\n",
    "\n",
    "Nota: Este país feliz nunca devuelve dinero a sus ciudadanos. Si el impuesto calculado es menor que cero, solo significa que no hay impuesto (el impuesto es igual a cero). Ten esto en cuenta durante tus cálculos.\n",
    "\n",
    "Observa el código en el editor: solo lee un valor de entrada y genera un resultado, por lo que debes completarlo con algunos cálculos inteligentes."
   ]
  },
  {
   "cell_type": "markdown",
   "id": "bd9462ce-a864-499b-bb03-8060eb39d3f5",
   "metadata": {},
   "source": [
    "## Datos de Prueba:\n",
    "\n",
    "1- Entrada de muestra: 10000\n",
    "Resultado esperado: El impuesto es: 1244.0 pesos\n",
    "\n",
    "2- Entrada de muestra: 100000\n",
    "Resultado esperado: El impuesto es: 19470.0 pesos\n",
    "\n",
    "3- Entrada de muestra: 1000\n",
    "Resultado esperado: El impuesto es: 0.0 pesos\n",
    "\n",
    "4- Entrada de muestra: -100\n",
    "Resultado esperado: El impuesto es: 0.0 pesos"
   ]
  },
  {
   "cell_type": "markdown",
   "id": "e8a69d21-1cda-40ae-ac88-69859a06abb3",
   "metadata": {},
   "source": [
    "## Codigo proporcionado:"
   ]
  },
  {
   "cell_type": "code",
   "execution_count": 1,
   "id": "9ecca60b-904d-46e7-bb90-28a661eb036c",
   "metadata": {},
   "outputs": [],
   "source": [
    "#income = float(input(\"Introduce el ingreso anual:\"))\n",
    "\n",
    "#\n",
    "# Escribe tu código aquí.\n",
    "#\n",
    "\n",
    "#tax = round(tax, 0)\n",
    "#print(\"El impuesto es:\", tax, \"pesos\")"
   ]
  },
  {
   "cell_type": "markdown",
   "id": "8145d849-ff85-43a3-a12d-5f3a4239d482",
   "metadata": {},
   "source": [
    "## Solución:"
   ]
  },
  {
   "cell_type": "code",
   "execution_count": 2,
   "id": "1dd72219-3f5a-4374-9da2-a9e74d8843e6",
   "metadata": {},
   "outputs": [
    {
     "name": "stdin",
     "output_type": "stream",
     "text": [
      "Introduce el ingreso anual: 10000\n"
     ]
    },
    {
     "name": "stdout",
     "output_type": "stream",
     "text": [
      "El impuesto es: 1244.0 pesos\n"
     ]
    }
   ],
   "source": [
    "#test 1\n",
    "income = float(input(\"Introduce el ingreso anual:\"))\n",
    "\n",
    "if income <= 85528:\n",
    "    tax = ((18 / 100 ) * income) - 556.2\n",
    "else:\n",
    "    value = income - 85528\n",
    "    tax = ((32 / 100) * value) + 14839.2 \n",
    "\n",
    "if tax <= 0:\n",
    "    tax = 0.0\n",
    "    \n",
    "tax = round(tax, 0)\n",
    "print(\"El impuesto es:\", tax, \"pesos\")"
   ]
  },
  {
   "cell_type": "code",
   "execution_count": 3,
   "id": "83bf8ea1-a224-49cf-85a8-2391abaa52b7",
   "metadata": {},
   "outputs": [
    {
     "name": "stdin",
     "output_type": "stream",
     "text": [
      "Introduce el ingreso anual: 100000\n"
     ]
    },
    {
     "name": "stdout",
     "output_type": "stream",
     "text": [
      "El impuesto es: 19470.0 pesos\n"
     ]
    }
   ],
   "source": [
    "#test 2\n",
    "income = float(input(\"Introduce el ingreso anual:\"))\n",
    "\n",
    "if income <= 85528:\n",
    "    tax = ((18 / 100 ) * income) - 556.2\n",
    "else:\n",
    "    value = income - 85528\n",
    "    tax = ((32 / 100) * value) + 14839.2 \n",
    "\n",
    "if tax <= 0:\n",
    "    tax = 0.0\n",
    "    \n",
    "tax = round(tax, 0)\n",
    "print(\"El impuesto es:\", tax, \"pesos\")"
   ]
  },
  {
   "cell_type": "code",
   "execution_count": 4,
   "id": "3e1c7c5d-ef88-47fd-8db1-5680dab8fe75",
   "metadata": {},
   "outputs": [
    {
     "name": "stdin",
     "output_type": "stream",
     "text": [
      "Introduce el ingreso anual: 1000\n"
     ]
    },
    {
     "name": "stdout",
     "output_type": "stream",
     "text": [
      "El impuesto es: 0.0 pesos\n"
     ]
    }
   ],
   "source": [
    "#test 3\n",
    "income = float(input(\"Introduce el ingreso anual:\"))\n",
    "\n",
    "if income <= 85528:\n",
    "    tax = ((18 / 100 ) * income) - 556.2\n",
    "else:\n",
    "    value = income - 85528\n",
    "    tax = ((32 / 100) * value) + 14839.2 \n",
    "\n",
    "if tax <= 0:\n",
    "    tax = 0.0\n",
    "    \n",
    "tax = round(tax, 0)\n",
    "print(\"El impuesto es:\", tax, \"pesos\")"
   ]
  },
  {
   "cell_type": "code",
   "execution_count": 5,
   "id": "2916210c-96d5-4282-b809-ecbd67fe9975",
   "metadata": {},
   "outputs": [
    {
     "name": "stdin",
     "output_type": "stream",
     "text": [
      "Introduce el ingreso anual: -100\n"
     ]
    },
    {
     "name": "stdout",
     "output_type": "stream",
     "text": [
      "El impuesto es: 0.0 pesos\n"
     ]
    }
   ],
   "source": [
    "#test 4\n",
    "income = float(input(\"Introduce el ingreso anual:\"))\n",
    "\n",
    "if income <= 85528:\n",
    "    tax = ((18 / 100 ) * income) - 556.2\n",
    "else:\n",
    "    value = income - 85528\n",
    "    tax = ((32 / 100) * value) + 14839.2 \n",
    "\n",
    "if tax <= 0:\n",
    "    tax = 0.0\n",
    "    \n",
    "tax = round(tax, 0)\n",
    "print(\"El impuesto es:\", tax, \"pesos\")"
   ]
  }
 ],
 "metadata": {
  "kernelspec": {
   "display_name": "Python 3 (ipykernel)",
   "language": "python",
   "name": "python3"
  },
  "language_info": {
   "codemirror_mode": {
    "name": "ipython",
    "version": 3
   },
   "file_extension": ".py",
   "mimetype": "text/x-python",
   "name": "python",
   "nbconvert_exporter": "python",
   "pygments_lexer": "ipython3",
   "version": "3.13.5"
  }
 },
 "nbformat": 4,
 "nbformat_minor": 5
}
