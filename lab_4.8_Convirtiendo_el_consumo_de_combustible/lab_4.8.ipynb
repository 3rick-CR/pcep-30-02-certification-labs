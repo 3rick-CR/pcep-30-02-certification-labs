{
 "cells": [
  {
   "cell_type": "markdown",
   "id": "5a0e36a4-fe8d-4bb4-a334-ce41af5084d6",
   "metadata": {},
   "source": [
    "# LABORATORIO 4.8: Convirtiendo el consumo de combustible"
   ]
  },
  {
   "cell_type": "markdown",
   "id": "ede345c5-f375-4120-ad34-13c1c7748bd3",
   "metadata": {},
   "source": [
    "## Objetivos:\n",
    "* Mejorar las habilidades del estudiante para definir, utilizar y probar funciones.\n",
    "\n",
    "## Nivel de Dificultad:\n",
    "* Fácil\n",
    "\n",
    "## Escenario:\n",
    "El consumo de combustible de un automóvil se puede expresar de muchas maneras diferentes. Por ejemplo, en Europa, se muestra como la cantidad de combustible consumido por cada 100 kilómetros.\n",
    "\n",
    "En los EE. UU., se muestra como la cantidad de millas recorridas por un automóvil con un galón de combustible.\n",
    "\n",
    "Tu tarea es escribir un par de funciones que conviertan l/100km a mpg (milas por galón), y viceversa.\n",
    "\n",
    "Las funciones:\n",
    "* Se llaman liters_100km_to_miles_gallon y miles_gallon_to_liters_100km respectivamente.\n",
    "* Toman un argumento (el valor correspondiente a sus nombres).\n",
    "\n",
    "Complementa el código en el editor.\n",
    "\n",
    "Ejecuta tu código y verifica si tu salida es la misma que la nuestra.\n",
    "\n",
    "Aquí hay información para ayudarte:\n",
    "\n",
    "1 milla = 1609.344 metros.\n",
    "1 galón = 3.785411784 litros.\n",
    "\n",
    "## Salida esperada:\n",
    "\n",
    "60.31143162393162\n",
    "\n",
    "31.36194444444444\n",
    "\n",
    "23.52145833333333\n",
    "\n",
    "3.9007393587617467\n",
    "\n",
    "7.490910297239916\n",
    "\n",
    "10.009131205673757"
   ]
  },
  {
   "cell_type": "markdown",
   "id": "462fea83-0f32-4a7d-8892-1e7e33aeb612",
   "metadata": {},
   "source": [
    "## Solución:"
   ]
  },
  {
   "cell_type": "code",
   "execution_count": 1,
   "id": "0f3ea7ec-27c1-4953-a826-cb57fc8fed98",
   "metadata": {},
   "outputs": [
    {
     "name": "stdout",
     "output_type": "stream",
     "text": [
      "60.31143162393162\n",
      "31.36194444444444\n",
      "23.52145833333333\n",
      "3.9007393587617463\n",
      "7.490910297239915\n",
      "10.009131205673757\n"
     ]
    }
   ],
   "source": [
    "mile = 1609.344 #metros.\n",
    "liters_in_1_galon = 3.785411784 #litros.\n",
    "\n",
    "\n",
    "def liters_100km_to_miles_gallon(liters):\n",
    "    \n",
    "    miles_in_100km = (100 * 1000) / mile\n",
    "    gallons = liters / liters_in_1_galon\n",
    "    mpg = miles_in_100km / gallons\n",
    "\n",
    "    return mpg\n",
    "\n",
    "    \n",
    "\n",
    "def miles_gallon_to_liters_100km(miles):\n",
    "\n",
    "    miles_in_100km = (100 * 1000) / mile\n",
    "    galons = miles_in_100km / miles\n",
    "    liters = galons * liters_in_1_galon\n",
    "    \n",
    "    return liters\n",
    "\n",
    "\n",
    "\n",
    "print(liters_100km_to_miles_gallon(3.9))\n",
    "print(liters_100km_to_miles_gallon(7.5))\n",
    "print(liters_100km_to_miles_gallon(10.))\n",
    "print(miles_gallon_to_liters_100km(60.3))\n",
    "print(miles_gallon_to_liters_100km(31.4))\n",
    "print(miles_gallon_to_liters_100km(23.5))\n",
    "\n"
   ]
  }
 ],
 "metadata": {
  "kernelspec": {
   "display_name": "Python 3 (ipykernel)",
   "language": "python",
   "name": "python3"
  },
  "language_info": {
   "codemirror_mode": {
    "name": "ipython",
    "version": 3
   },
   "file_extension": ".py",
   "mimetype": "text/x-python",
   "name": "python",
   "nbconvert_exporter": "python",
   "pygments_lexer": "ipython3",
   "version": "3.13.5"
  }
 },
 "nbformat": 4,
 "nbformat_minor": 5
}
