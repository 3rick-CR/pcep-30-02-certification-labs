{
 "cells": [
  {
   "cell_type": "markdown",
   "id": "4eb66a23-4ec4-4fe3-b123-c39749c2148b",
   "metadata": {},
   "source": [
    "# LABORATORIO 4.7: LABORATORIO: Números primos: ¿Cómo encontrarlos?"
   ]
  },
  {
   "cell_type": "markdown",
   "id": "b1f03dc5-28d8-4fab-a312-321f00793925",
   "metadata": {},
   "source": [
    "## Objetivos: \n",
    "* Familiarizar al estudiante con nociones y algoritmos clásicos.\n",
    "* Mejorar las habilidades del estudiante para definir y emplear funciones.\n",
    "\n",
    "## Nivel de Dificultad:\n",
    "Medio\n",
    "\n",
    "## Escenario:\n",
    "Un número natural es primo si es mayor que 1 y no tiene divisores más que 1 y si mismo.\n",
    "\n",
    "¿Complicado? De ningúna manera. Por ejemplo, 8 no es un número primo, ya que puedes dividirlo entre 2 y 4 (no podemos usar divisores iguales a 1 y 8, ya que la definición lo prohíbe).\n",
    "\n",
    "Por otra parte, 7 es un número primo, ya que no podemos encontrar ningún divisor para el.\n",
    "\n",
    "Tu tarea es escribir una función que verifique si un número es primo o no.\n",
    "\n",
    "La función:\n",
    "* Se llama is_prime.\n",
    "* Toma un argumento (el valor a verificar).\n",
    "* Devuelve True si el argumento es un número primo, y False de lo contrario.\n",
    "\n",
    "Sugerencia: intenta dividir el argumento por todos los valores posteriores (comenzando desde 2) y verifica el resto: si es cero, tu número no puede ser un número primo; analiza cuidadosamente cuándo deberías detener el proceso.\n",
    "\n",
    "Si necesitas conocer la raíz cuadrada de cualquier valor, puedes utilizar el operador **\n",
    "\n",
    "Ejecuta tu código y verifica si tu salida es la misma que la nuestra.\n",
    "\n",
    "## Datos de prueba:\n",
    "\n",
    "Salida esperada:\n",
    "\n",
    "2 3 5 7 11 13 17 19"
   ]
  },
  {
   "cell_type": "markdown",
   "id": "81c37cb6-690d-422f-aab7-0312c38ec440",
   "metadata": {},
   "source": [
    "## Solución:"
   ]
  },
  {
   "cell_type": "code",
   "execution_count": 1,
   "id": "04734d74-69d3-4083-86a7-1581843e604d",
   "metadata": {},
   "outputs": [
    {
     "name": "stdout",
     "output_type": "stream",
     "text": [
      "2 3 5 7 11 13 17 19 \n"
     ]
    }
   ],
   "source": [
    "def is_prime(num):\n",
    "\n",
    "    if num > 1:\n",
    "\n",
    "        is_prime = True\n",
    "\n",
    "        for i in range(2, num):\n",
    "\n",
    "            if num % i == 0:\n",
    "                is_prime = False\n",
    "                   \n",
    "    else:\n",
    "        print(\"Ingresa un numero mayor a 1\")\n",
    "        return\n",
    "\n",
    "\n",
    "    return is_prime\n",
    "\n",
    "#imprime los numeros primos del 2 al 20\n",
    "for i in range(2,21): \n",
    "    \n",
    "    if is_prime(i) == True: \n",
    "        print(i, end = \" \")\n",
    "print()"
   ]
  },
  {
   "cell_type": "code",
   "execution_count": null,
   "id": "e5f18b55-f0cf-4b8d-bd3d-e9632278f515",
   "metadata": {},
   "outputs": [],
   "source": []
  }
 ],
 "metadata": {
  "kernelspec": {
   "display_name": "Python 3 (ipykernel)",
   "language": "python",
   "name": "python3"
  },
  "language_info": {
   "codemirror_mode": {
    "name": "ipython",
    "version": 3
   },
   "file_extension": ".py",
   "mimetype": "text/x-python",
   "name": "python",
   "nbconvert_exporter": "python",
   "pygments_lexer": "ipython3",
   "version": "3.13.5"
  }
 },
 "nbformat": 4,
 "nbformat_minor": 5
}
