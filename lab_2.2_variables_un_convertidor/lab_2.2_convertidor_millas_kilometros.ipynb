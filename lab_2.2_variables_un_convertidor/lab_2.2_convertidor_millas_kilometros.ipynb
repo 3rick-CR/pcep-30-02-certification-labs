{
 "cells": [
  {
   "cell_type": "markdown",
   "id": "e4cb8efa-c323-4ee5-83e2-33bd561534a8",
   "metadata": {},
   "source": [
    "# Laboratorio 2.2: Variables, un sencillo convertidor"
   ]
  },
  {
   "cell_type": "markdown",
   "id": "dd531cca-862a-48c6-be37-79de15c4f3d8",
   "metadata": {},
   "source": [
    "## Objetivos\n",
    "* Familiarizarse con el concepto de variables y trabajar con ellas.\n",
    "* Realizar operaciones básicas y conversiones.\n",
    "* Experimentar con el código de Python.\n",
    "\n",
    "## Nivel de Dificultad:\n",
    "Fácil\n",
    "\n"
   ]
  },
  {
   "cell_type": "markdown",
   "id": "0e5cca47-9f99-43c0-bf6b-814c9520dd9c",
   "metadata": {},
   "source": [
    "## Escenario:\n",
    "\n",
    "Millas y kilómetros son unidades de longitud o distancia.\n",
    "\n",
    "Teniendo en mente que 1 milla equivale aproximadamente a 1.61 kilómetros, complementa el programa en el editor para que convierta de:\n",
    "\n",
    "* Millas a kilómetros.\n",
    "* Kilómetros a millas.\n",
    "\n",
    "No se debe cambiar el código existente.\n",
    "\n",
    "Escribe tu código en los lugares indicados con ###. Prueba tu programa con los datos que han sido provistos en el código fuente."
   ]
  },
  {
   "cell_type": "markdown",
   "id": "b18bc853-95a4-45bf-a9a2-00e1546c9cd9",
   "metadata": {},
   "source": [
    "## Codigo:\n",
    "\n",
    "kilometers = 12.25\n",
    "\n",
    "miles = 7.38\n",
    "\n",
    "miles_to_kilometers = ###\n",
    "\n",
    "kilometers_to_miles = ###\n",
    "\n",
    "print(miles, \"millas son\", round(miles_to_kilometers, 2), \"kilómetros\")\n",
    "\n",
    "print(kilometers, \"kilómetros son\", round(kilometers_to_miles, 2), \"millas\")"
   ]
  },
  {
   "cell_type": "markdown",
   "id": "4c9582ca-2b8e-4eec-a838-1667d3bfeb9d",
   "metadata": {},
   "source": [
    "## Resultado Esperado:\n",
    "7.38 millas son 11.88 kilómetros\n",
    "\n",
    "12.25 kilómetros son 7.61 millas"
   ]
  },
  {
   "cell_type": "markdown",
   "id": "f4099e43-a9a2-4b12-8c16-8cee3f39462b",
   "metadata": {},
   "source": [
    "## Solucion:"
   ]
  },
  {
   "cell_type": "code",
   "execution_count": 4,
   "id": "86c5845f-053e-45ae-8585-2554aa893650",
   "metadata": {},
   "outputs": [],
   "source": [
    "#Conversiones\n",
    "una_milla = 1.60934  #kilómetros\n",
    "un_kilometro = 0.621371 #millas"
   ]
  },
  {
   "cell_type": "code",
   "execution_count": 5,
   "id": "dc8d2a0f-64a9-4ee7-a50e-c44702fa91ef",
   "metadata": {},
   "outputs": [
    {
     "name": "stdout",
     "output_type": "stream",
     "text": [
      "7.38 millas son 11.88 kilómetros\n",
      "12.25 kilómetros son 7.61 millas\n"
     ]
    }
   ],
   "source": [
    "kilometers = 12.25\n",
    "miles = 7.38\n",
    "\n",
    "miles_to_kilometers = miles * una_milla\n",
    "kilometers_to_miles = kilometers * un_kilometro\n",
    "\n",
    "print(miles, \"millas son\", round(miles_to_kilometers, 2), \"kilómetros\")\n",
    "print(kilometers, \"kilómetros son\", round(kilometers_to_miles, 2), \"millas\")"
   ]
  },
  {
   "cell_type": "code",
   "execution_count": null,
   "id": "84fc18a1-a207-469d-baa1-8d40ba840fb6",
   "metadata": {},
   "outputs": [],
   "source": []
  }
 ],
 "metadata": {
  "kernelspec": {
   "display_name": "Python 3 (ipykernel)",
   "language": "python",
   "name": "python3"
  },
  "language_info": {
   "codemirror_mode": {
    "name": "ipython",
    "version": 3
   },
   "file_extension": ".py",
   "mimetype": "text/x-python",
   "name": "python",
   "nbconvert_exporter": "python",
   "pygments_lexer": "ipython3",
   "version": "3.13.5"
  }
 },
 "nbformat": 4,
 "nbformat_minor": 5
}
