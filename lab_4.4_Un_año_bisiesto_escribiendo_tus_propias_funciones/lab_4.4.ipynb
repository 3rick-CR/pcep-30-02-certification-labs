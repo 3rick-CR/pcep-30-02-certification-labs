{
 "cells": [
  {
   "cell_type": "markdown",
   "id": "28f25f96-aada-457f-acee-33460510f6a5",
   "metadata": {},
   "source": [
    "## LABORATORIO 4.4: Un año bisiesto: escribiendo tus propias funciones"
   ]
  },
  {
   "cell_type": "markdown",
   "id": "ec6fb1b9-90d1-48e0-8caa-305229f2953a",
   "metadata": {},
   "source": [
    "## Objetivos:\n",
    "Familiarizar al estudiante con:\n",
    "\n",
    "* Proyectar y escribir funciones con parámetros.\n",
    "* Utilizar la instrucción return.\n",
    "* Probar las funciones.\n",
    "\n",
    "## Nivel de Dificultad:\n",
    "Fácil\n",
    "\n",
    "## Escenario:\n",
    "Tu tarea es escribir y probar una función que toma un argumento (un año) y devuelve True si el año es un año bisiesto, o False si no lo es.\n",
    "\n",
    "Parte del esqueleto de la función ya está en el editor.\n",
    "\n",
    "Nota: también hemos preparado un breve código de prueba, que puedes utilizar para probar tu función.\n"
   ]
  },
  {
   "cell_type": "code",
   "execution_count": 1,
   "id": "ee16a4fd-ba8e-4cdb-a169-daaa27a06aaa",
   "metadata": {},
   "outputs": [
    {
     "data": {
      "text/plain": [
       "'\\n\\ndef is_year_leap(year):\\n#\\n# Escribe tu código aquí.\\n#\\n\\ntest_data = [1900, 2000, 2016, 1987]\\ntest_results = [False, True, True, False]\\nfor i in range(len(test_data)):\\n\\tyr = test_data[i]\\n\\tprint(yr,\"->\",end=\"\")\\n\\tresult = is_year_leap(yr)\\n\\tif result == test_results[i]:\\n\\t\\t#print(\"OK\")\\n\\telse:\\n\\t\\tprint(\"Fallido\")\\n\\n'"
      ]
     },
     "execution_count": 1,
     "metadata": {},
     "output_type": "execute_result"
    }
   ],
   "source": [
    "\"\"\"\n",
    "\n",
    "def is_year_leap(year):\n",
    "#\n",
    "# Escribe tu código aquí.\n",
    "#\n",
    "\n",
    "test_data = [1900, 2000, 2016, 1987]\n",
    "test_results = [False, True, True, False]\n",
    "for i in range(len(test_data)):\n",
    "\tyr = test_data[i]\n",
    "\tprint(yr,\"->\",end=\"\")\n",
    "\tresult = is_year_leap(yr)\n",
    "\tif result == test_results[i]:\n",
    "\t\t#print(\"OK\")\n",
    "\telse:\n",
    "\t\tprint(\"Fallido\")\n",
    "\n",
    "\"\"\""
   ]
  },
  {
   "cell_type": "markdown",
   "id": "e357c051-e8a4-4d9c-95a8-ce48d9ff54ec",
   "metadata": {},
   "source": [
    "El código utiliza dos listas: una con los datos de prueba y la otra con los resultados esperados. El código te dirá si alguno de tus resultados no es válido."
   ]
  },
  {
   "cell_type": "markdown",
   "id": "15162f43-2862-4d40-8563-026fd3fb62c0",
   "metadata": {},
   "source": [
    "## Solución:"
   ]
  },
  {
   "cell_type": "code",
   "execution_count": 2,
   "id": "09ca24c5-5759-4c4e-9c3b-7e200cf52d12",
   "metadata": {},
   "outputs": [
    {
     "name": "stdout",
     "output_type": "stream",
     "text": [
      "1900 ->OK\n",
      "2000 ->OK\n",
      "2016 ->OK\n",
      "1987 ->OK\n"
     ]
    }
   ],
   "source": [
    "def is_year_leap(year):\n",
    "\n",
    "    if year % 4 == 0 and year % 100 != 0 or year % 400 == 0:\n",
    "        bisiesto = True\n",
    "    else:\n",
    "        bisiesto = False\n",
    "    \n",
    "    return bisiesto\n",
    "\n",
    "\n",
    "test_data = [1900, 2000, 2016, 1987]\n",
    "test_results = [False, True, True, False]\n",
    "for i in range(len(test_data)):\n",
    "\tyr = test_data[i]\n",
    "\tprint(yr,\"->\",end=\"\")\n",
    "\tresult = is_year_leap(yr)\n",
    "\tif result == test_results[i]:\n",
    "\t\tprint(\"OK\")\n",
    "\telse:\n",
    "\t\tprint(\"Fallido\")"
   ]
  },
  {
   "cell_type": "code",
   "execution_count": null,
   "id": "1a6914be-957c-4df8-8367-5804211104fd",
   "metadata": {},
   "outputs": [],
   "source": []
  }
 ],
 "metadata": {
  "kernelspec": {
   "display_name": "Python 3 (ipykernel)",
   "language": "python",
   "name": "python3"
  },
  "language_info": {
   "codemirror_mode": {
    "name": "ipython",
    "version": 3
   },
   "file_extension": ".py",
   "mimetype": "text/x-python",
   "name": "python",
   "nbconvert_exporter": "python",
   "pygments_lexer": "ipython3",
   "version": "3.13.5"
  }
 },
 "nbformat": 4,
 "nbformat_minor": 5
}
