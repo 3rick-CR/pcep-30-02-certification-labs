{
 "cells": [
  {
   "cell_type": "markdown",
   "id": "90dbdc87-5464-47c9-a927-526060d0e584",
   "metadata": {},
   "source": [
    "# LABORATORIO 3.8: La sentencia continue - El Bonito Devorador de Vocales"
   ]
  },
  {
   "cell_type": "markdown",
   "id": "d9761380-29ed-4109-9629-6f9c607d97de",
   "metadata": {},
   "source": [
    "## Objetivos:\n",
    "Familiarizar al estudiante con:\n",
    "\n",
    "* Utilizar la instrucción continue en los bucles.\n",
    "* Modificar y actualizar el código existente.\n",
    "* Reflejar situaciones de la vida real en código de computadora.\n",
    "\n",
    "## Nivel de Dificultad:\n",
    "Fácil\n",
    "\n",
    "## Escenario:\n",
    "Tu tarea aquí es aún más especial que antes: ¡Debes rediseñar el devorador de vocales (feo) del laboratorio anterior (3.1.2.10) y crear un mejor devorador de vocales (bonito) mejorado! Escribe un programa que use:\n",
    "\n",
    "* Un bucle for.\n",
    "* El concepto de ejecución condicional (if-elif-else).\n",
    "* La instrucción continue.\n",
    "\n",
    "Tu programa debe:\n",
    "\n",
    "* Pedir al usuario que ingrese una palabra.\n",
    "  \n",
    "* Utilizar user_word = user_word.upper() para convertir la palabra ingresada por el usuario a mayúsculas; hablaremos sobre los llamados métodos de cadena y el upper() muy pronto, no te preocupes.\n",
    "\n",
    "* Emplea la ejecución condicional y la instrucción continue para \"comer\" las siguientes vocales A , E , I , O , U de la palabra ingresada.\n",
    "\n",
    "* Asigne las letras no consumidas a la variable word_without_vowels e imprime la variable en la pantalla.\n",
    "\n",
    "Analiza el código en el editor. Hemos creado word_without_vowels y le hemos asignado una cadena vacía. Utiliza la operación de concatenación para pedirle a Python que combine las letras seleccionadas en una cadena más larga durante los siguientes giros de bucle, y asignarlo a la variable word_without_vowels"
   ]
  },
  {
   "cell_type": "code",
   "execution_count": 1,
   "id": "e2cbf040-8aea-4c05-8b0b-411db4e7de3e",
   "metadata": {},
   "outputs": [],
   "source": [
    "#word_without_vowels = \"\"\n",
    "\n",
    "# Indicar al usuario que ingrese una palabra\n",
    "# y asignarla a la variable user_word.\n",
    "\n",
    "\n",
    "#for letter in user_word:\n",
    "   # Completa el cuerpo del bucle.\n",
    "\n",
    "# Imprimir la palabra asignada a word_without_vowels."
   ]
  },
  {
   "cell_type": "markdown",
   "id": "14cff9b8-9339-4192-97cb-b044a8ba302b",
   "metadata": {},
   "source": [
    "## Datos de Prueba:\n",
    "1- Entrada de muestra: Gregory. \n",
    "   Salida esperada:\n",
    "   GRGRY"
   ]
  },
  {
   "cell_type": "markdown",
   "id": "d8ffc245-bb5c-41b0-95f7-10285b990765",
   "metadata": {},
   "source": [
    "2- Entrada de muestra: abstemious.\n",
    "Salida esperada:\n",
    "BSTMS"
   ]
  },
  {
   "cell_type": "markdown",
   "id": "0e748815-8a29-48b4-ab09-209e3769fa67",
   "metadata": {},
   "source": [
    "3- Entrada de muestra: IOUEA.\n",
    "Salida esperada: ningun caracter"
   ]
  },
  {
   "cell_type": "markdown",
   "id": "1cd31eb9-fca4-4735-9534-469dac8cc4fc",
   "metadata": {},
   "source": [
    "## Solución:"
   ]
  },
  {
   "cell_type": "code",
   "execution_count": 2,
   "id": "03f869d9-cb97-4d3f-9e30-e190c0d11309",
   "metadata": {},
   "outputs": [
    {
     "name": "stdin",
     "output_type": "stream",
     "text": [
      "Ingrese una palabra:  Gregory\n"
     ]
    },
    {
     "name": "stdout",
     "output_type": "stream",
     "text": [
      "GRGRY\n"
     ]
    }
   ],
   "source": [
    "#test 1\n",
    "\n",
    "word_without_vowels = \"\"\n",
    "\n",
    "user_world = input(\"Ingrese una palabra: \").upper()\n",
    "\n",
    "for letter in user_world:\n",
    "\n",
    "    if letter in \"AEIOU\":\n",
    "        continue\n",
    "    else:\n",
    "        word_without_vowels += letter\n",
    "        \n",
    "\n",
    "\n",
    "print(word_without_vowels)\n"
   ]
  },
  {
   "cell_type": "code",
   "execution_count": 3,
   "id": "4a259f8e-b76f-4682-8baa-1513b4858d2d",
   "metadata": {},
   "outputs": [
    {
     "name": "stdin",
     "output_type": "stream",
     "text": [
      "Ingrese una palabra:  abstemious\n"
     ]
    },
    {
     "name": "stdout",
     "output_type": "stream",
     "text": [
      "BSTMS\n"
     ]
    }
   ],
   "source": [
    "#test 2\n",
    "\n",
    "word_without_vowels = \"\"\n",
    "\n",
    "user_world = input(\"Ingrese una palabra: \").upper()\n",
    "\n",
    "for letter in user_world:\n",
    "\n",
    "    if letter in \"AEIOU\":\n",
    "        continue\n",
    "    else:\n",
    "        word_without_vowels += letter\n",
    "        \n",
    "\n",
    "\n",
    "print(word_without_vowels)"
   ]
  },
  {
   "cell_type": "code",
   "execution_count": 4,
   "id": "189d4fae-a054-4691-a8f2-1e2de5b0d850",
   "metadata": {},
   "outputs": [
    {
     "name": "stdin",
     "output_type": "stream",
     "text": [
      "Ingrese una palabra:  IOUEA\n"
     ]
    },
    {
     "name": "stdout",
     "output_type": "stream",
     "text": [
      "\n"
     ]
    }
   ],
   "source": [
    "#test 3\n",
    "\n",
    "word_without_vowels = \"\"\n",
    "\n",
    "user_world = input(\"Ingrese una palabra: \").upper()\n",
    "\n",
    "for letter in user_world:\n",
    "\n",
    "    if letter in \"AEIOU\":\n",
    "        continue\n",
    "    else:\n",
    "        word_without_vowels += letter\n",
    "        \n",
    "\n",
    "\n",
    "print(word_without_vowels)"
   ]
  }
 ],
 "metadata": {
  "kernelspec": {
   "display_name": "Python 3 (ipykernel)",
   "language": "python",
   "name": "python3"
  },
  "language_info": {
   "codemirror_mode": {
    "name": "ipython",
    "version": 3
   },
   "file_extension": ".py",
   "mimetype": "text/x-python",
   "name": "python",
   "nbconvert_exporter": "python",
   "pygments_lexer": "ipython3",
   "version": "3.13.5"
  }
 },
 "nbformat": 4,
 "nbformat_minor": 5
}
