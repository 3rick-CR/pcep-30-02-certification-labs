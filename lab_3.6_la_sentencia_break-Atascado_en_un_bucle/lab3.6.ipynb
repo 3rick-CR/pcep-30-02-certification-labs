{
 "cells": [
  {
   "cell_type": "markdown",
   "id": "bce01f58-66b7-48f2-912a-b04e0328658b",
   "metadata": {},
   "source": [
    "# LABORATORIO 3.6: La sentencia break - Atascado en un bucle"
   ]
  },
  {
   "cell_type": "markdown",
   "id": "853bd011-84b1-4700-9daa-ca0c1c3d5f97",
   "metadata": {},
   "source": [
    "## Objetivos:\n",
    "Familiarizar al estudiante con:\n",
    "\n",
    "* Utilizar la instrucción break en los bucles.\n",
    "* Reflejar situaciones de la vida real en código de computadora.\n",
    "\n",
    "\n",
    "## Nivel de Dificultad:\n",
    "Fácil\n",
    "\n",
    "## Escenario:\n",
    "La instrucción break se implementa para salir/terminar un bucle.\n",
    "\n",
    "Diseña un programa que use un bucle while y le pida continuamente al usuario que ingrese una palabra a menos que ingrese \"chupacabra\" como la palabra de salida secreta, en cuyo caso el mensaje \"¡Has dejado el bucle con éxito\". Debe imprimirse en la pantalla y el bucle debe terminar.\n",
    "\n",
    "No imprimas ninguna de las palabras ingresadas por el usuario. Utiliza el concepto de ejecución condicional y la sentencia break."
   ]
  },
  {
   "cell_type": "markdown",
   "id": "7f47598f-9dcc-46ec-be11-d01d68e2a697",
   "metadata": {},
   "source": [
    "## Solución:"
   ]
  },
  {
   "cell_type": "code",
   "execution_count": 1,
   "id": "f21df944-e9e4-4d7b-9ce8-74d03a55ad1c",
   "metadata": {},
   "outputs": [
    {
     "name": "stdin",
     "output_type": "stream",
     "text": [
      "Ingresa una palabra:  hola\n",
      "Ingresa una palabra:  chupacabra\n"
     ]
    },
    {
     "name": "stdout",
     "output_type": "stream",
     "text": [
      "¡Has dejado el bucle con éxito\n"
     ]
    }
   ],
   "source": [
    "while True:\n",
    "    palabra = input(\"Ingresa una palabra: \")\n",
    "\n",
    "    if palabra == \"chupacabra\":\n",
    "        print(\"¡Has dejado el bucle con éxito\")\n",
    "        break"
   ]
  }
 ],
 "metadata": {
  "kernelspec": {
   "display_name": "Python 3 (ipykernel)",
   "language": "python",
   "name": "python3"
  },
  "language_info": {
   "codemirror_mode": {
    "name": "ipython",
    "version": 3
   },
   "file_extension": ".py",
   "mimetype": "text/x-python",
   "name": "python",
   "nbconvert_exporter": "python",
   "pygments_lexer": "ipython3",
   "version": "3.13.5"
  }
 },
 "nbformat": 4,
 "nbformat_minor": 5
}
