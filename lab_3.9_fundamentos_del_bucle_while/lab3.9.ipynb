{
 "cells": [
  {
   "cell_type": "markdown",
   "id": "930e309c-358c-4c0a-9c9a-3f8631d4b91f",
   "metadata": {},
   "source": [
    "# LABORATORIO 3.9: Fundamentos del bucle while"
   ]
  },
  {
   "attachments": {
    "4a837d11-bae1-4dce-bae2-0721db24e353.jpg": {
     "image/jpeg": "[encoded data removed]"
    }
   },
   "cell_type": "markdown",
   "id": "9805cbfd-e65f-46a5-8a83-0343ea146306",
   "metadata": {},
   "source": [
    "## Objetivos:\n",
    "Familiarizar al estudiante con:\n",
    "\n",
    "Utilizar el bucle while.\n",
    "Encontrar la implementación adecuada de reglas definidas verbalmente.\n",
    "Reflejar situaciones de la vida real en código de computadora.\n",
    "\n",
    "## Nivel de Dificultad:\n",
    "Medio\n",
    "\n",
    "## Escenario:\n",
    "Escucha esta historia: Un niño y su padre, un programador de computadoras, juegan con bloques de madera. Están construyendo una pirámide.\n",
    "\n",
    "Su pirámide es un poco rara, ya que en realidad es una pared en forma de pirámide, es plana. La pirámide se apila de acuerdo con un principio simple: cada capa inferior contiene un bloque más que la capa superior.\n",
    "\n",
    "La figura ilustra la regla utilizada por los constructores:\n",
    "\n",
    "![piramide.jpg](attachment:4a837d11-bae1-4dce-bae2-0721db24e353.jpg)\n",
    "\n",
    "Tu tarea es escribir un programa que lea la cantidad de bloques que tienen los constructores, y generar la altura de la pirámide que se puede construir utilizando estos bloques.\n",
    "\n",
    "Nota: La altura se mide por el número de capas completas: si los constructores no tienen la cantidad suficiente de bloques y no pueden completar la siguiente capa, terminan su trabajo inmediatamente.\n",
    "\n",
    "Prueba tu código con los datos que hemos proporcionado."
   ]
  },
  {
   "cell_type": "markdown",
   "id": "49b5f0f0-cf93-4850-90bd-a7b52ee9a552",
   "metadata": {},
   "source": [
    "## Datos de Prueba:\n",
    "\n",
    "1- Entrada de muestra: 6. Salida esperada: La altura de la pirámide es: 3\n",
    "\n",
    "2- Entrada de muestra: 20. Salida esperada: La altura de la pirámide es: 5\n",
    "\n",
    "3- Entrada de muestra: 1000. Salida esperada: La altura de la pirámide es: 44\n",
    "\n",
    "4- Entrada de muestra: 2. Salida esperada: La altura de la pirámide es: 1"
   ]
  },
  {
   "cell_type": "markdown",
   "id": "ebc75a68-b675-40e1-a79d-b034eb0ef637",
   "metadata": {},
   "source": [
    "## Solución:"
   ]
  },
  {
   "cell_type": "code",
   "execution_count": 1,
   "id": "2789793a-8a53-4d45-a74c-272edee19be5",
   "metadata": {},
   "outputs": [
    {
     "name": "stdin",
     "output_type": "stream",
     "text": [
      "Ingresa el número de bloques:  6\n"
     ]
    },
    {
     "name": "stdout",
     "output_type": "stream",
     "text": [
      "La altura de la pirámide es: 3\n"
     ]
    }
   ],
   "source": [
    "#test 1\n",
    "total_bloques = int(input(\"Ingresa el número de bloques: \"))\n",
    "\n",
    "disponibles = total_bloques\t\n",
    "altura = 0\n",
    "\n",
    "while disponibles > 0:\n",
    "\n",
    "    if disponibles >= altura + 1:\n",
    "        disponibles -= altura + 1\n",
    "        altura += 1\n",
    "        \n",
    "    else:\n",
    "        #print(f\"piezas que no se usaron : {disponibles}\")\n",
    "        break\n",
    "    \n",
    "print(\"La altura de la pirámide es:\", altura)"
   ]
  },
  {
   "cell_type": "code",
   "execution_count": 2,
   "id": "982344e6-3337-4ed4-89e4-fecb33b518be",
   "metadata": {},
   "outputs": [
    {
     "name": "stdin",
     "output_type": "stream",
     "text": [
      "Ingresa el número de bloques:  20\n"
     ]
    },
    {
     "name": "stdout",
     "output_type": "stream",
     "text": [
      "La altura de la pirámide es: 5\n"
     ]
    }
   ],
   "source": [
    "#test 2\n",
    "total_bloques = int(input(\"Ingresa el número de bloques: \"))\n",
    "\n",
    "disponibles = total_bloques\t\n",
    "altura = 0\n",
    "\n",
    "while disponibles > 0:\n",
    "\n",
    "    if disponibles >= altura + 1:\n",
    "        disponibles -= altura + 1\n",
    "        altura += 1\n",
    "        \n",
    "    else:\n",
    "        #print(f\"piezas que no se usaron : {disponibles}\")\n",
    "        break\n",
    "    \n",
    "print(\"La altura de la pirámide es:\", altura)"
   ]
  },
  {
   "cell_type": "code",
   "execution_count": 3,
   "id": "eca9cab0-4943-4729-9933-9117dfb6c85e",
   "metadata": {},
   "outputs": [
    {
     "name": "stdin",
     "output_type": "stream",
     "text": [
      "Ingresa el número de bloques:  1000\n"
     ]
    },
    {
     "name": "stdout",
     "output_type": "stream",
     "text": [
      "La altura de la pirámide es: 44\n"
     ]
    }
   ],
   "source": [
    "#test 3\n",
    "total_bloques = int(input(\"Ingresa el número de bloques: \"))\n",
    "\n",
    "disponibles = total_bloques\t\n",
    "altura = 0\n",
    "\n",
    "while disponibles > 0:\n",
    "\n",
    "    if disponibles >= altura + 1:\n",
    "        disponibles -= altura + 1\n",
    "        altura += 1\n",
    "        \n",
    "    else:\n",
    "        #print(f\"piezas que no se usaron : {disponibles}\")\n",
    "        break\n",
    "    \n",
    "print(\"La altura de la pirámide es:\", altura)"
   ]
  },
  {
   "cell_type": "code",
   "execution_count": 4,
   "id": "0d980ba5-8706-40e7-a827-f44d8b23839b",
   "metadata": {},
   "outputs": [
    {
     "name": "stdin",
     "output_type": "stream",
     "text": [
      "Ingresa el número de bloques:  2\n"
     ]
    },
    {
     "name": "stdout",
     "output_type": "stream",
     "text": [
      "La altura de la pirámide es: 1\n"
     ]
    }
   ],
   "source": [
    "#test 4\n",
    "total_bloques = int(input(\"Ingresa el número de bloques: \"))\n",
    "\n",
    "disponibles = total_bloques\t\n",
    "altura = 0\n",
    "\n",
    "while disponibles > 0:\n",
    "\n",
    "    if disponibles >= altura + 1:\n",
    "        disponibles -= altura + 1\n",
    "        altura += 1\n",
    "        \n",
    "    else:\n",
    "        #print(f\"piezas que no se usaron : {disponibles}\")\n",
    "        break\n",
    "    \n",
    "print(\"La altura de la pirámide es:\", altura)"
   ]
  }
 ],
 "metadata": {
  "kernelspec": {
   "display_name": "Python 3 (ipykernel)",
   "language": "python",
   "name": "python3"
  },
  "language_info": {
   "codemirror_mode": {
    "name": "ipython",
    "version": 3
   },
   "file_extension": ".py",
   "mimetype": "text/x-python",
   "name": "python",
   "nbconvert_exporter": "python",
   "pygments_lexer": "ipython3",
   "version": "3.13.5"
  }
 },
 "nbformat": 4,
 "nbformat_minor": 5
}
