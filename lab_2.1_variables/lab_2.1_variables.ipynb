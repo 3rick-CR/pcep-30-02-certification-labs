{
 "cells": [
  {
   "cell_type": "markdown",
   "id": "61bf7d06-7686-4cb3-aa95-59ba1272ae3c",
   "metadata": {},
   "source": [
    "# LABORATORIO_2.1: Variables"
   ]
  },
  {
   "cell_type": "markdown",
   "id": "da806319-0f33-46b8-b059-86da4ae03c97",
   "metadata": {},
   "source": [
    "## Objetivos\n",
    "* Familiarizarse con el concepto de almacenar y trabajar con diferentes tipos de datos en Python.\n",
    "* Experimentar con el código en Python."
   ]
  },
  {
   "cell_type": "markdown",
   "id": "39d9bc18-2ac6-4635-99a0-1c010046ba12",
   "metadata": {},
   "source": [
    "# Nivel de Dificultad:\n",
    "Fácil"
   ]
  },
  {
   "cell_type": "markdown",
   "id": "eb3613b6-4088-4051-8320-0802538d5d5a",
   "metadata": {},
   "source": [
    "## Escenario\n",
    "A continuación una historia:\n",
    "\n",
    "Érase una vez en la Tierra de las Manzanas, Juan tenía tres manzanas, María tenía cinco manzanas, y Adán tenía seis manzanas. Todos eran muy felices y vivieron por muchísimo tiempo. Fin de la Historia.\n",
    "\n",
    "Tu tarea es:\n",
    "\n",
    "* Crear las variables: juan, maria, y adan.\n",
    "* Asignar valores a las variables. El valor debe de ser igual al número de manzanas que cada quien tenía.\n",
    "* Una vez almacenados los números en las variables, imprimir las variables en una línea, y separar cada una de ellas con una coma.\n",
    "* Después se debe crear una nueva variable llamada total_manzanas y se debe igualar a la suma de las tres variables anteriores.\n",
    "* Imprime el valor almacenado en total_manzanas en la consola.\n",
    "* Experimenta con tu código: crea nuevas variables, asigna diferentes valores a ellas, y realiza varias operaciones aritméticas con  ellas (porejemplo, +, -, *, /, //, etc.). Intenta poner una cadena con un entero juntos en la misma línea, por ejemplo, \"Número Total de Manzanas:\" y total_manzanas."
   ]
  },
  {
   "cell_type": "code",
   "execution_count": 1,
   "id": "9000840f-9528-49ff-b326-1488d53f4c87",
   "metadata": {},
   "outputs": [],
   "source": [
    "#Crear las variables\n",
    "juan = 3\n",
    "maria = 5\n",
    "adan = 6"
   ]
  },
  {
   "cell_type": "code",
   "execution_count": 2,
   "id": "b3601832-dadd-4a49-b1be-585b798aac3b",
   "metadata": {},
   "outputs": [
    {
     "name": "stdout",
     "output_type": "stream",
     "text": [
      "3,5,6\n"
     ]
    }
   ],
   "source": [
    "#Imprimir las variables y separar con una coma\n",
    "print(juan, maria, adan, sep=\",\")"
   ]
  },
  {
   "cell_type": "code",
   "execution_count": 3,
   "id": "5821c1b0-95c6-4a77-8ad8-00d6c507e159",
   "metadata": {},
   "outputs": [],
   "source": [
    "#Crear la variable total_manzanas\n",
    "total_manzanas = juan + maria + adan"
   ]
  },
  {
   "cell_type": "code",
   "execution_count": 4,
   "id": "ff35c556-c847-4e2a-b39b-5a9d08e9761b",
   "metadata": {},
   "outputs": [
    {
     "name": "stdout",
     "output_type": "stream",
     "text": [
      "14\n"
     ]
    }
   ],
   "source": [
    "#Imprimir el valor almacenado en total_manzanas\n",
    "print(total_manzanas)"
   ]
  },
  {
   "cell_type": "code",
   "execution_count": 5,
   "id": "0e8d2109-c552-4a3d-8919-ecc2a01c1d59",
   "metadata": {},
   "outputs": [],
   "source": [
    "#Experimenta con tu código: crea nuevas variables, asigna diferentes valores a ellas, y realiza varias operaciones aritméticas con ellas\n",
    "manzanas_maria_x2 = maria * 2\n"
   ]
  },
  {
   "cell_type": "code",
   "execution_count": 6,
   "id": "fa57d571-d22b-447d-b9b9-4052864b1454",
   "metadata": {},
   "outputs": [
    {
     "name": "stdout",
     "output_type": "stream",
     "text": [
      "Número Total de Manzanas: 14\n"
     ]
    }
   ],
   "source": [
    "#Intenta poner una cadena con un entero juntos en la misma línea, por ejemplo, \"Número Total de Manzanas:\" y total_manzanas.\n",
    "cadena = f\"Número Total de Manzanas: {total_manzanas}\"\n",
    "print(cadena)"
   ]
  }
 ],
 "metadata": {
  "kernelspec": {
   "display_name": "Python 3 (ipykernel)",
   "language": "python",
   "name": "python3"
  },
  "language_info": {
   "codemirror_mode": {
    "name": "ipython",
    "version": 3
   },
   "file_extension": ".py",
   "mimetype": "text/x-python",
   "name": "python",
   "nbconvert_exporter": "python",
   "pygments_lexer": "ipython3",
   "version": "3.13.5"
  }
 },
 "nbformat": 4,
 "nbformat_minor": 5
}
