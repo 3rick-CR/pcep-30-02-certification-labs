{
 "cells": [
  {
   "cell_type": "markdown",
   "id": "16d53048-8ee8-4f68-891f-765aa8a0ae71",
   "metadata": {},
   "source": [
    "# LABORATORIO 3.3: Fundamentos de la sentencia if-elif-else"
   ]
  },
  {
   "cell_type": "markdown",
   "id": "5e6298ac-26e7-4635-9ba5-db54822905ca",
   "metadata": {},
   "source": [
    "## Objetivos:\n",
    "\n",
    "Familiarizar al estudiante con:\n",
    "\n",
    "* Utilizar la sentencia if-elif-else.\n",
    "* Encontrar la implementación adecuada de las reglas definidas verbalmente.\n",
    "* Emplear el código de prueba empleando entradas y salidas de muestra.\n",
    "\n",
    "## Nivel de Dificultad:\n",
    "Fácil/Medio\n",
    "\n",
    "## Escenario:\n",
    "Como seguramente sabrás, debido a algunas razones astronómicas, el año pueden ser bisiesto o común. Los primeros tienen una duración de 366 días, mientras que los últimos tienen una duración de 365 días.\n",
    "\n",
    "Desde la introducción del calendario Gregoriano (en 1582), se utiliza la siguiente regla para determinar el tipo de año:\n",
    "\n",
    "* Si el número del año no es divisible entre cuatro, es un año común.\n",
    "* De lo contrario, si el número del año no es divisible entre 100, es un año bisiesto.\n",
    "* De lo contrario, si el número del año no es divisible entre 400, es un año común.\n",
    "* De lo contrario, es un año bisiesto.\n",
    "\n",
    "El código debe mostrar uno de los dos mensajes posibles, que son Año Bisiesto o Año Común, según el valor ingresado.\n",
    "\n",
    "Sería bueno verificar si el año ingresado cae en la era Gregoriana y emitir una advertencia de lo contrario: No dentro del período del calendario Gregoriano. Consejo: utiliza los operadores != y %"
   ]
  },
  {
   "cell_type": "markdown",
   "id": "bd92f93e-4dbb-4733-9614-b30df2d209f8",
   "metadata": {},
   "source": [
    "## Datos de Prueba:\n",
    "1- Entrada de muestra: 2000. Resultado esperado: Año Bisiesto\n",
    "\n",
    "2- Entrada de muestra: 2015. Resultado esperado: Año Común\n",
    "\n",
    "3- Entrada de muestra: 1999. Resultado esperado: Año Común\n",
    "\n",
    "4- Entrada de muestra: 1996. Resultado esperado: Año Bisiesto\n",
    "\n",
    "5- Entrada de muestra: 1580. Resultado esperado: No esta dentro del período del calendario Gregoriano"
   ]
  },
  {
   "cell_type": "markdown",
   "id": "9d4ae7a1-0584-4b69-b3b1-fc52f01feb57",
   "metadata": {},
   "source": [
    "## Solución:"
   ]
  },
  {
   "cell_type": "code",
   "execution_count": 1,
   "id": "1cab85fa-8dfe-44f4-b6c5-d4ab74c877a7",
   "metadata": {},
   "outputs": [
    {
     "name": "stdin",
     "output_type": "stream",
     "text": [
      "Introduce un año: 2000\n"
     ]
    },
    {
     "name": "stdout",
     "output_type": "stream",
     "text": [
      "El año 2000 es un año bisiesto\n"
     ]
    }
   ],
   "source": [
    "#test 1\n",
    "year = int(input(\"Introduce un año:\"))\n",
    "\n",
    "if year > 1582:\n",
    "    \n",
    "    if year % 4 == 0 and year % 100 != 0 or year % 400 == 0:\n",
    "        print(f\"El año {year} es un año bisiesto\")\n",
    "    \n",
    "    else: \n",
    "        print(f\"El año {year} es un año común\" )\n",
    "\n",
    "else:\n",
    "    print(\"Error el año ingresado no esta dentro del período del calendario Gregoriano\")"
   ]
  },
  {
   "cell_type": "code",
   "execution_count": 2,
   "id": "6b69a808-00c6-41e5-8da2-021413408d05",
   "metadata": {},
   "outputs": [
    {
     "name": "stdin",
     "output_type": "stream",
     "text": [
      "Introduce un año: 2015\n"
     ]
    },
    {
     "name": "stdout",
     "output_type": "stream",
     "text": [
      "El año 2015 es un año común\n"
     ]
    }
   ],
   "source": [
    "#test 2\n",
    "year = int(input(\"Introduce un año:\"))\n",
    "\n",
    "if year > 1582:\n",
    "    \n",
    "    if year % 4 == 0 and year % 100 != 0 or year % 400 == 0:\n",
    "        print(f\"El año {year} es un año bisiesto\")\n",
    "    \n",
    "    else: \n",
    "        print(f\"El año {year} es un año común\")\n",
    "\n",
    "else:\n",
    "    print(\"Error el año ingresado no esta dentro del período del calendario Gregoriano\")"
   ]
  },
  {
   "cell_type": "code",
   "execution_count": 3,
   "id": "025c3ca5-eee0-48c9-8444-5e7cae8ce420",
   "metadata": {},
   "outputs": [
    {
     "name": "stdin",
     "output_type": "stream",
     "text": [
      "Introduce un año: 1999\n"
     ]
    },
    {
     "name": "stdout",
     "output_type": "stream",
     "text": [
      "El año 1999 es un año común\n"
     ]
    }
   ],
   "source": [
    "#test 3\n",
    "year = int(input(\"Introduce un año:\"))\n",
    "\n",
    "if year > 1582:\n",
    "    \n",
    "    if year % 4 == 0 and year % 100 != 0 or year % 400 == 0:\n",
    "        print(f\"El año {year} es un año bisiesto\")\n",
    "    \n",
    "    else: \n",
    "        print(f\"El año {year} es un año común\" )\n",
    "\n",
    "else:\n",
    "    print(\"Error el año ingresado no esta dentro del período del calendario Gregoriano\")"
   ]
  },
  {
   "cell_type": "code",
   "execution_count": 4,
   "id": "c0f65770-a334-45b9-9e10-0caffd89753c",
   "metadata": {},
   "outputs": [
    {
     "name": "stdin",
     "output_type": "stream",
     "text": [
      "Introduce un año: 1996\n"
     ]
    },
    {
     "name": "stdout",
     "output_type": "stream",
     "text": [
      "El año 1996 es un año bisiesto\n"
     ]
    }
   ],
   "source": [
    "#test 4\n",
    "year = int(input(\"Introduce un año:\"))\n",
    "\n",
    "if year > 1582:\n",
    "    \n",
    "    if year % 4 == 0 and year % 100 != 0 or year % 400 == 0:\n",
    "        print(f\"El año {year} es un año bisiesto\")\n",
    "    \n",
    "    else: \n",
    "        print(f\"El año {year} es un año común\" )\n",
    "\n",
    "else:\n",
    "    print(\"Error el año ingresado no esta dentro del período del calendario Gregoriano\")"
   ]
  },
  {
   "cell_type": "code",
   "execution_count": 5,
   "id": "dc0536f6-3ce6-4a0e-90bf-123f432c0807",
   "metadata": {},
   "outputs": [
    {
     "name": "stdin",
     "output_type": "stream",
     "text": [
      "Introduce un año: 1580\n"
     ]
    },
    {
     "name": "stdout",
     "output_type": "stream",
     "text": [
      "Error el año ingresado no esta dentro del período del calendario Gregoriano\n"
     ]
    }
   ],
   "source": [
    "#test 5\n",
    "year = int(input(\"Introduce un año:\"))\n",
    "\n",
    "if year > 1582:\n",
    "    \n",
    "    if year % 4 == 0 and year % 100 != 0 or year % 400 == 0:\n",
    "        print(f\"El año {year} es un año bisiesto\")\n",
    "    \n",
    "    else: \n",
    "        print(f\"El año {year} es un año común\" )\n",
    "\n",
    "else:\n",
    "    print(\"Error el año ingresado no esta dentro del período del calendario Gregoriano\")"
   ]
  }
 ],
 "metadata": {
  "kernelspec": {
   "display_name": "Python 3 (ipykernel)",
   "language": "python",
   "name": "python3"
  },
  "language_info": {
   "codemirror_mode": {
    "name": "ipython",
    "version": 3
   },
   "file_extension": ".py",
   "mimetype": "text/x-python",
   "name": "python",
   "nbconvert_exporter": "python",
   "pygments_lexer": "ipython3",
   "version": "3.13.5"
  }
 },
 "nbformat": 4,
 "nbformat_minor": 5
}
