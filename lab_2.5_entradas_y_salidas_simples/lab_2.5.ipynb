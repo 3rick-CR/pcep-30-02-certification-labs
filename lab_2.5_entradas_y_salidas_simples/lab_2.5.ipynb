{
 "cells": [
  {
   "cell_type": "markdown",
   "id": "f781b21c-cd7b-4b18-ac96-af349fd73ea9",
   "metadata": {},
   "source": [
    "# LABORATORIO 2.5: Entradas y salidas simples\n"
   ]
  },
  {
   "cell_type": "markdown",
   "id": "e2bc88a3-0d6a-42cc-a1ec-5d3b57b65835",
   "metadata": {},
   "source": [
    "## Objetivos:\n",
    "* Familiarizarse con la entrada y salida de datos en Python.\n",
    "* Evaluar expresiones simples.\n",
    "\n",
    "## Nivel de Dificultad:\n",
    "Fácil\n",
    "\n",
    "## Escenario:\n",
    "La tarea es completar el código para evaluar y mostrar el resultado de cuatro operaciones aritméticas básicas.\n",
    "\n",
    "El resultado debe ser mostrado en consola.\n",
    "\n",
    "Quizá no podrás proteger el código de un usuario que intente dividir entre cero. Por ahora, no hay que preocuparse por ello.\n",
    "\n",
    "Prueba tu código - ¿Produce los resultados esperados?\n",
    "\n",
    "No te mostraremos ningún dato de prueba, eso sería demasiado sencillo."
   ]
  },
  {
   "cell_type": "markdown",
   "id": "6166b70f-f179-4fea-a007-b46cf8d0fc52",
   "metadata": {},
   "source": [
    "## Codigo:"
   ]
  },
  {
   "cell_type": "code",
   "execution_count": 1,
   "id": "f53d98bc-bd64-4fbd-a678-f60a62aab41b",
   "metadata": {},
   "outputs": [
    {
     "name": "stdout",
     "output_type": "stream",
     "text": [
      "\n",
      "¡Eso es todo, amigos!\n"
     ]
    }
   ],
   "source": [
    "# ingresa un valor flotante para la variable a aquí\n",
    "# ingresa un valor flotante para la variable b aquí\n",
    "\n",
    "# muestra el resultado de la suma aquí \n",
    "# muestra el resultado de la resta aquí\n",
    "# muestra el resultado de la multiplicación aquí\n",
    "# muestra el resultado de la división aquí\n",
    "\n",
    "print(\"\\n¡Eso es todo, amigos!\")"
   ]
  },
  {
   "cell_type": "markdown",
   "id": "b3c44f2f-53d4-48b8-867c-663547e5e2b3",
   "metadata": {},
   "source": [
    "## Solución:"
   ]
  },
  {
   "cell_type": "code",
   "execution_count": 2,
   "id": "7c5130c9-b048-4bac-8e0f-bbd23be8432e",
   "metadata": {},
   "outputs": [
    {
     "name": "stdout",
     "output_type": "stream",
     "text": [
      "20.0\n",
      "10.6\n",
      "71.91\n",
      "3.26\n",
      "\n",
      "¡Eso es todo, amigos!\n"
     ]
    }
   ],
   "source": [
    "a = 15.3\n",
    "b = 4.7\n",
    "\n",
    "print(round((a + b), 2))\n",
    "print(round((a - b), 2))\n",
    "print(round((a * b), 2))\n",
    "print(round((a / b), 2))\n",
    "\n",
    "print(\"\\n¡Eso es todo, amigos!\")"
   ]
  },
  {
   "cell_type": "code",
   "execution_count": null,
   "id": "d30d2942-4c96-47fd-bdc6-c5282c62cda1",
   "metadata": {},
   "outputs": [],
   "source": []
  }
 ],
 "metadata": {
  "kernelspec": {
   "display_name": "Python 3 (ipykernel)",
   "language": "python",
   "name": "python3"
  },
  "language_info": {
   "codemirror_mode": {
    "name": "ipython",
    "version": 3
   },
   "file_extension": ".py",
   "mimetype": "text/x-python",
   "name": "python",
   "nbconvert_exporter": "python",
   "pygments_lexer": "ipython3",
   "version": "3.13.5"
  }
 },
 "nbformat": 4,
 "nbformat_minor": 5
}
