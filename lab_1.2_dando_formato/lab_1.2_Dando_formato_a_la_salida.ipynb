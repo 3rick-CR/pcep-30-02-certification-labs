{
 "cells": [
  {
   "cell_type": "markdown",
   "id": "29ecedf6-be65-4d66-ab42-c39378c01d20",
   "metadata": {},
   "source": [
    "# LABORATORIO_1.2: Dando formato a la salida"
   ]
  },
  {
   "cell_type": "markdown",
   "id": "682776b3-d5e5-4566-bd36-839803b9c5ca",
   "metadata": {},
   "source": [
    "## Objetivos:\n",
    "* Experimentar con el código Python existente.\n",
    "* Descubrir y solucionar errores básicos de sintaxis.\n",
    "* Familiarizarse con la función print() y sus capacidades de formato."
   ]
  },
  {
   "cell_type": "markdown",
   "id": "199a9b9b-6f7c-4cab-a083-e89668c4a6b8",
   "metadata": {},
   "source": [
    "# Nivel de dificultad:\n",
    "Fácil\n",
    "\n",
    "# Escenario\n",
    "Recomendamos que juegues con el código que hemos escrito para ti y que realices algunas correcciones (quizás incluso destructivas). Siéntete libre de modificar cualquier parte del código, pero hay una condición: aprende de tus errores y saca tus propias conclusiones.\n",
    "\n"
   ]
  },
  {
   "cell_type": "code",
   "execution_count": 1,
   "id": "a9f08584-4e85-470e-8690-4712d05ba871",
   "metadata": {},
   "outputs": [
    {
     "name": "stdout",
     "output_type": "stream",
     "text": [
      "    *\n",
      "   * *\n",
      "  *   *\n",
      " *     *\n",
      "***   ***\n",
      "  *   *\n",
      "  *   *\n",
      "  *****\n"
     ]
    }
   ],
   "source": [
    "#codigo inicial\n",
    "\n",
    "print(\"    *\")\n",
    "print(\"   * *\")\n",
    "print(\"  *   *\")\n",
    "print(\" *     *\")\n",
    "print(\"***   ***\")\n",
    "print(\"  *   *\")\n",
    "print(\"  *   *\")\n",
    "print(\"  *****\")"
   ]
  },
  {
   "cell_type": "markdown",
   "id": "ce41e1b9-6401-4db0-8565-f61245c5ac86",
   "metadata": {},
   "source": [
    "Intenta:\n",
    "\n",
    "1) Minimizar el número de invocaciones de la función print() insertando la secuencia \\n en las cadenas.\n",
    "  \n",
    "2) Hacer la flecha dos veces más grande (pero mantener las proporciones).\n",
    "\n",
    "  \n",
    "3) Duplicar la flecha, colocando ambas flechas lado a lado; nota: una cadena se puede multiplicar usando el siguiente truco: \"cadena\" * 2 producirá \"cadenacadena\" (te contaremos más sobre ello pronto).\n",
    "\n",
    "  \n",
    "4) Elimina cualquiera de las comillas y observa detenidamente la respuesta de Python; presta atención a donde Python ve un error: ¿es el lugar en donde realmente existe el error?\n",
    "\n",
    "  \n",
    "5) Haz lo mismo con algunos de los paréntesis.\n",
    "\n",
    "  \n",
    "6) Cambia cualquiera de las palabras print en otra cosa (por ejemplo de minúscula a mayúscula, Print) -¿Qué sucede ahora?\n",
    "\n",
    "  \n",
    "7) Reemplaza algunas de las comillas por apóstrofes; observa lo que pasa detenidamente."
   ]
  },
  {
   "cell_type": "markdown",
   "id": "403b057c-709a-4e0b-928e-66c59bb59970",
   "metadata": {},
   "source": [
    "# Solucion:"
   ]
  },
  {
   "cell_type": "markdown",
   "id": "5409ccc0-f34e-4051-9483-3c70c3043a73",
   "metadata": {},
   "source": [
    "1. Minimizar el número de invocaciones de la funcion print() usando \\n:"
   ]
  },
  {
   "cell_type": "code",
   "execution_count": 2,
   "id": "4bb487dc-3778-492a-b67a-af3507c1bb33",
   "metadata": {},
   "outputs": [
    {
     "name": "stdout",
     "output_type": "stream",
     "text": [
      "  *  \n",
      " *** \n",
      "*****\n",
      "  *  \n",
      "  *  \n"
     ]
    }
   ],
   "source": [
    "print(\"  *  \\n *** \\n*****\\n  *  \\n  *  \")"
   ]
  },
  {
   "cell_type": "markdown",
   "id": "482a4838-8817-4680-83da-46a62f207de3",
   "metadata": {},
   "source": [
    "2. Hacer la flecha dos veces más grande (pero mantener las proporciones)."
   ]
  },
  {
   "cell_type": "code",
   "execution_count": 3,
   "id": "61245726-9ce2-4738-862b-545279db2089",
   "metadata": {},
   "outputs": [
    {
     "name": "stdout",
     "output_type": "stream",
     "text": [
      "    **    \n",
      "   ****   \n",
      "  ******  \n",
      "    **    \n",
      "    **    \n",
      "    **    \n",
      "    **    \n"
     ]
    }
   ],
   "source": [
    "print(\"    **    \\n\"\n",
    "      \"   ****   \\n\"\n",
    "      \"  ******  \\n\"\n",
    "      \"    **    \\n\"\n",
    "      \"    **    \\n\"\n",
    "      \"    **    \\n\"\n",
    "      \"    **    \")"
   ]
  },
  {
   "cell_type": "markdown",
   "id": "b6a8d26c-4513-498b-ba6b-3e7c62dc8785",
   "metadata": {},
   "source": [
    "3. Duplicar la flecha, colocando ambas flechas lado a lado"
   ]
  },
  {
   "cell_type": "code",
   "execution_count": 7,
   "id": "333990d5-1d8d-4c07-8131-5f8e0644b0ea",
   "metadata": {},
   "outputs": [
    {
     "name": "stdout",
     "output_type": "stream",
     "text": [
      "    **        **    \n",
      "   ****      ****   \n",
      "  ******    ******  \n",
      "    **        **    \n",
      "    **        **    \n",
      "    **        **    \n",
      "    **        **    \n"
     ]
    }
   ],
   "source": [
    "print(\"    **        **    \\n\"\n",
    "      \"   ****      ****   \\n\"\n",
    "      \"  ******    ******  \\n\"\n",
    "      \"    **        **    \\n\"\n",
    "      \"    **        **    \\n\"\n",
    "      \"    **        **    \\n\"\n",
    "      \"    **        **    \")"
   ]
  },
  {
   "cell_type": "markdown",
   "id": "33adbc30-6d22-4ee0-8020-b860b1fa3216",
   "metadata": {},
   "source": [
    "4. Elimina cualquiera de las comillas y observa detenidamente la respuesta de Python; presta atención a donde Python ve un error: ¿es el lugar en donde realmente existe el error?\n",
    "\n",
    "   R = Si quitamos la ultima comilla genera un Sintaxis Error detectando la linea 7 donde se genera      el error"
   ]
  },
  {
   "cell_type": "markdown",
   "id": "4b76e908-4168-45ac-95cb-cd414a8bc626",
   "metadata": {},
   "source": [
    "5. Haz lo mismo con algunos de los paréntesis."
   ]
  },
  {
   "cell_type": "markdown",
   "id": "8e235844-0eaf-49a5-aa54-50cdc9892763",
   "metadata": {},
   "source": [
    "    R = SyntaxError: '(' was never closed"
   ]
  },
  {
   "cell_type": "markdown",
   "id": "35b2d204-991a-431d-a00b-56c92bbff022",
   "metadata": {},
   "source": [
    "6. Cambia cualquiera de las palabras print en otra cosa (por ejemplo de minúscula a mayúscula, Print) -¿Qué sucede ahora?"
   ]
  },
  {
   "cell_type": "markdown",
   "id": "b4456214-7ace-41ed-9611-76da561a51c2",
   "metadata": {},
   "source": [
    "    R = El programa marcara un NameError: name 'hola' is not defined"
   ]
  },
  {
   "cell_type": "markdown",
   "id": "78d900c1-13ed-4e4d-8ed5-e0fc601fcee2",
   "metadata": {},
   "source": [
    "7. Reemplaza algunas de las comillas por apóstrofes; observa lo que pasa detenidamente."
   ]
  },
  {
   "cell_type": "code",
   "execution_count": 22,
   "id": "4a74d357-8dcc-4312-ad6b-e49632c8db0b",
   "metadata": {},
   "outputs": [
    {
     "name": "stdout",
     "output_type": "stream",
     "text": [
      "    **    \n",
      "   ****   \n",
      "  ******  \n",
      "    **    \n",
      "    **    \n",
      "    **    \n",
      "    **    \n"
     ]
    }
   ],
   "source": [
    "print('    **    \\n'\n",
    "      '   ****   \\n'\n",
    "      '  ******  \\n'\n",
    "      '    **    \\n'\n",
    "      '    **    \\n'\n",
    "      '    **    \\n'\n",
    "      '    **    ')"
   ]
  },
  {
   "cell_type": "markdown",
   "id": "f595bcf0-21f2-457f-a7d6-229b6695050c",
   "metadata": {},
   "source": [
    "R = Tambien funciona "
   ]
  }
 ],
 "metadata": {
  "kernelspec": {
   "display_name": "Python 3 (ipykernel)",
   "language": "python",
   "name": "python3"
  },
  "language_info": {
   "codemirror_mode": {
    "name": "ipython",
    "version": 3
   },
   "file_extension": ".py",
   "mimetype": "text/x-python",
   "name": "python",
   "nbconvert_exporter": "python",
   "pygments_lexer": "ipython3",
   "version": "3.13.5"
  }
 },
 "nbformat": 4,
 "nbformat_minor": 5
}
