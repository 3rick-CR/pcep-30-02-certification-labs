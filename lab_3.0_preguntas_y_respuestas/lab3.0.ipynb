{
 "cells": [
  {
   "cell_type": "markdown",
   "id": "17c739b9-7cd8-4a31-be0a-af7c87c8bb99",
   "metadata": {},
   "source": [
    "\n",
    "# LABORATORIO 3.0: Preguntas y respuestas"
   ]
  },
  {
   "cell_type": "markdown",
   "id": "b8966523-542c-4bf4-b691-aa18138afba0",
   "metadata": {},
   "source": [
    "## Objetivos:\n",
    "* Familiarizarse con la función input().\n",
    "* Familiarizarse con los operadores de comparación en Python\n",
    "\n",
    "## Nivel de Dificultad:\n",
    "Muy Fácil\n",
    "\n",
    "## Escenario:\n",
    "Usando uno de los operadores de comparación en Python, escribe un programa simple de dos líneas que tome el parámetro n como entrada, que es un entero, e imprime False si n es menor que 100, y True si n es mayor o igual que 100.\n",
    "\n",
    "No debes crear ningún bloque if. Prueba tu código usando los datos que te proporcionamos."
   ]
  },
  {
   "cell_type": "markdown",
   "id": "a62e87ac-b71b-4861-9701-fe6e8656c018",
   "metadata": {},
   "source": [
    "## Datos de Prueba:\n",
    "\n",
    "1- Ejemplo de entrada: 55\n",
    "Resultado esperado: False\n",
    "\n",
    "2- Ejemplo de entrada: 99\n",
    "Resultado esperado: False\n",
    "\n",
    "3- Ejemplo de entrada: 100\n",
    "Resultado esperado: True\n",
    "\n",
    "4- Ejemplo de entrada: 101\n",
    "Resultado esperado: True\n",
    "\n",
    "5- Ejemplo de entrada: -5\n",
    "Resultado esperado: False\n",
    "\n",
    "6- Ejemplo de entrada: +123\n",
    "Resultado esperado: True"
   ]
  },
  {
   "cell_type": "markdown",
   "id": "609032ef-c2a8-4fb0-b63d-bb4f90538bb1",
   "metadata": {},
   "source": [
    "## Solucion:"
   ]
  },
  {
   "cell_type": "code",
   "execution_count": 1,
   "id": "34d446a8-a009-4009-8697-fde6f766ca98",
   "metadata": {},
   "outputs": [
    {
     "name": "stdin",
     "output_type": "stream",
     "text": [
      "Ingresa un numero:  55\n"
     ]
    },
    {
     "name": "stdout",
     "output_type": "stream",
     "text": [
      "False\n"
     ]
    }
   ],
   "source": [
    "#Test 1\n",
    "n = int(input(\"Ingresa un numero: \")) \n",
    "print(n >= 100)"
   ]
  },
  {
   "cell_type": "code",
   "execution_count": 2,
   "id": "6df0f916-b92b-445e-8384-b63fd0101f29",
   "metadata": {},
   "outputs": [
    {
     "name": "stdin",
     "output_type": "stream",
     "text": [
      "Ingresa un numero:  99\n"
     ]
    },
    {
     "name": "stdout",
     "output_type": "stream",
     "text": [
      "False\n"
     ]
    }
   ],
   "source": [
    "#Test 2\n",
    "n = int(input(\"Ingresa un numero: \")) \n",
    "print(n >= 100)"
   ]
  },
  {
   "cell_type": "code",
   "execution_count": 3,
   "id": "0da194ce-af5a-4a8d-ab39-ddf92bb1c21f",
   "metadata": {},
   "outputs": [
    {
     "name": "stdin",
     "output_type": "stream",
     "text": [
      "Ingresa un numero:  100\n"
     ]
    },
    {
     "name": "stdout",
     "output_type": "stream",
     "text": [
      "True\n"
     ]
    }
   ],
   "source": [
    "#Test 3\n",
    "n = int(input(\"Ingresa un numero: \")) \n",
    "print(n >= 100)"
   ]
  },
  {
   "cell_type": "code",
   "execution_count": 4,
   "id": "ca98664d-0e9e-4260-b0bb-27f929c743e9",
   "metadata": {},
   "outputs": [
    {
     "name": "stdin",
     "output_type": "stream",
     "text": [
      "Ingresa un numero:  101\n"
     ]
    },
    {
     "name": "stdout",
     "output_type": "stream",
     "text": [
      "True\n"
     ]
    }
   ],
   "source": [
    "#test 4\n",
    "n = int(input(\"Ingresa un numero: \")) \n",
    "print(n >= 100)"
   ]
  },
  {
   "cell_type": "code",
   "execution_count": 5,
   "id": "e9e6c25f-4395-46a2-bc32-28e61150eea6",
   "metadata": {},
   "outputs": [
    {
     "name": "stdin",
     "output_type": "stream",
     "text": [
      "Ingresa un numero:  -5\n"
     ]
    },
    {
     "name": "stdout",
     "output_type": "stream",
     "text": [
      "False\n"
     ]
    }
   ],
   "source": [
    "#test 5\n",
    "n = int(input(\"Ingresa un numero: \")) \n",
    "print(n >= 100)"
   ]
  },
  {
   "cell_type": "code",
   "execution_count": 6,
   "id": "96340228-9a57-4d9b-8a8b-0e0d0952d776",
   "metadata": {},
   "outputs": [
    {
     "name": "stdin",
     "output_type": "stream",
     "text": [
      "Ingresa un numero:  +123\n"
     ]
    },
    {
     "name": "stdout",
     "output_type": "stream",
     "text": [
      "True\n"
     ]
    }
   ],
   "source": [
    "#test 6\n",
    "n = int(input(\"Ingresa un numero: \")) \n",
    "print(n >= 100)"
   ]
  }
 ],
 "metadata": {
  "kernelspec": {
   "display_name": "Python 3 (ipykernel)",
   "language": "python",
   "name": "python3"
  },
  "language_info": {
   "codemirror_mode": {
    "name": "ipython",
    "version": 3
   },
   "file_extension": ".py",
   "mimetype": "text/x-python",
   "name": "python",
   "nbconvert_exporter": "python",
   "pygments_lexer": "ipython3",
   "version": "3.13.5"
  }
 },
 "nbformat": 4,
 "nbformat_minor": 5
}
