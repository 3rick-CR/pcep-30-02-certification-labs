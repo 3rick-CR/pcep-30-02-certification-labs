{
 "cells": [
  {
   "cell_type": "markdown",
   "id": "e0933172-0d24-49cd-848a-3a23eaf7a5af",
   "metadata": {},
   "source": [
    "## LABORATORIO 2.6: Operadores y expresiones"
   ]
  },
  {
   "cell_type": "markdown",
   "id": "04fd5d1a-9a59-4102-bac6-03deae9ec6ac",
   "metadata": {},
   "source": [
    "## Objetivos:\n",
    "* Familiarizarse con los conceptos de números, operadores y expresiones aritméticas en Python.\n",
    "* Comprender la precedencia y asociatividad de los operadores de Python, así como el correcto uso de los paréntesis."
   ]
  },
  {
   "cell_type": "markdown",
   "id": "355885e1-740f-4802-85bb-fa837a615c92",
   "metadata": {},
   "source": [
    "## Escenario:\n",
    "La tarea es completar el código para poder evaluar la siguiente expresión:"
   ]
  },
  {
   "attachments": {
    "4fcf8ef5-354c-4145-aa69-7c2238308361.jpg": {
     "image/jpeg": "[encoded data removed]"
    }
   },
   "cell_type": "markdown",
   "id": "95ccce29-3e7f-4c33-9aed-5f63fc8bce23",
   "metadata": {},
   "source": [
    "![imagen lab.jpg](attachment:4fcf8ef5-354c-4145-aa69-7c2238308361.jpg)"
   ]
  },
  {
   "cell_type": "markdown",
   "id": "d6b0d901-fd90-424f-8898-a244da82f091",
   "metadata": {},
   "source": [
    "El resultado debe de ser asignado a y. Se cauteloso, observa los operadores y priorízalos. Utiliza cuantos paréntesis sean necesarios.\n",
    "\n",
    "Puedes utilizar variables adicionales para acortar la expresión (sin embargo, no es muy necesario). Prueba tu código cuidadosamente."
   ]
  },
  {
   "cell_type": "markdown",
   "id": "7670e970-d04f-43c6-b966-a31b73b7c604",
   "metadata": {},
   "source": [
    "## Datos de Prueba\n",
    "Entrada de muestra: 1,\n",
    "Salida esperada:\n",
    "y = 0.6000000000000001\n",
    "\n",
    "\n",
    "Entrada de muestra: 10,\n",
    "Salida esperada:\n",
    "y = 0.09901951266867294\n",
    "\n",
    "\n",
    "Entrada de muestra: 100,\n",
    "Salida esperada:\n",
    "y = 0.009999000199950014\n",
    "\n",
    "\n",
    "Entrada de muestra: -5,\n",
    "Salida esperada:\n",
    "y = -0.19258202567760344"
   ]
  },
  {
   "cell_type": "markdown",
   "id": "d07d2cd1-9605-4779-8f30-c45e8df8a5eb",
   "metadata": {},
   "source": [
    "## Solución:"
   ]
  },
  {
   "cell_type": "code",
   "execution_count": 1,
   "id": "3b55f565-284b-4377-839a-0e43e760aae3",
   "metadata": {},
   "outputs": [
    {
     "name": "stdin",
     "output_type": "stream",
     "text": [
      "Ingresa el valor para x:  1\n"
     ]
    },
    {
     "name": "stdout",
     "output_type": "stream",
     "text": [
      "y = 0.6000000000000001\n"
     ]
    }
   ],
   "source": [
    "#Cuando x vale 1\n",
    "x = float(input(\"Ingresa el valor para x: \"))\n",
    "\n",
    "y = 1 / (x + 1 / (x + 1 / (x + (1 / x))))\n",
    "print(\"y =\", y)"
   ]
  },
  {
   "cell_type": "code",
   "execution_count": 2,
   "id": "80b6c34a-3fd1-4c4c-80f1-fb21ffc6256c",
   "metadata": {},
   "outputs": [
    {
     "name": "stdin",
     "output_type": "stream",
     "text": [
      "Ingresa el valor para x:  10\n"
     ]
    },
    {
     "name": "stdout",
     "output_type": "stream",
     "text": [
      "y = 0.09901951266867294\n"
     ]
    }
   ],
   "source": [
    "#Cuando x vale 10\n",
    "x = float(input(\"Ingresa el valor para x: \"))\n",
    "\n",
    "y = 1 / (x + 1 / (x + 1 / (x + (1 / x))))\n",
    "print(\"y =\", y)"
   ]
  },
  {
   "cell_type": "code",
   "execution_count": 3,
   "id": "1f5593f2-9f27-4cac-bc20-26437fd98fac",
   "metadata": {},
   "outputs": [
    {
     "name": "stdin",
     "output_type": "stream",
     "text": [
      "Ingresa el valor para x:  100\n"
     ]
    },
    {
     "name": "stdout",
     "output_type": "stream",
     "text": [
      "y = 0.009999000199950014\n"
     ]
    }
   ],
   "source": [
    "#Cuando x vale 100\n",
    "x = float(input(\"Ingresa el valor para x: \"))\n",
    "\n",
    "y = 1 / (x + 1 / (x + 1 / (x + (1 / x))))\n",
    "print(\"y =\", y)"
   ]
  },
  {
   "cell_type": "code",
   "execution_count": 4,
   "id": "ee4e71da-2e47-4966-bb07-eeb10b96356e",
   "metadata": {},
   "outputs": [
    {
     "name": "stdin",
     "output_type": "stream",
     "text": [
      "Ingresa el valor para x:  -5\n"
     ]
    },
    {
     "name": "stdout",
     "output_type": "stream",
     "text": [
      "y = -0.19258202567760344\n"
     ]
    }
   ],
   "source": [
    "#Cuando x vale -5\n",
    "x = float(input(\"Ingresa el valor para x: \"))\n",
    "\n",
    "y = 1 / (x + 1 / (x + 1 / (x + (1 / x))))\n",
    "print(\"y =\", y)"
   ]
  }
 ],
 "metadata": {
  "kernelspec": {
   "display_name": "Python 3 (ipykernel)",
   "language": "python",
   "name": "python3"
  },
  "language_info": {
   "codemirror_mode": {
    "name": "ipython",
    "version": 3
   },
   "file_extension": ".py",
   "mimetype": "text/x-python",
   "name": "python",
   "nbconvert_exporter": "python",
   "pygments_lexer": "ipython3",
   "version": "3.13.5"
  }
 },
 "nbformat": 4,
 "nbformat_minor": 5
}
