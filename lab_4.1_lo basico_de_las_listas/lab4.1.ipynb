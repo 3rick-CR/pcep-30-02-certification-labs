{
 "cells": [
  {
   "cell_type": "markdown",
   "id": "885e85ff-a734-42e4-abb0-67a6fec8e281",
   "metadata": {},
   "source": [
    "# LABORATORIO 4.1: Lo básico de las listas"
   ]
  },
  {
   "cell_type": "markdown",
   "id": "c6decc62-04e1-427b-b22d-1155452080bd",
   "metadata": {},
   "source": [
    "## Objetivos:\n",
    "\n",
    "Familiarizar al estudiante con:\n",
    "\n",
    "* Usar instrucciones básicas relacionadas con listas.\n",
    "* Crear y modificar listas.\n",
    "\n",
    "## Nivel de Dificultad:\n",
    "Muy fácil\n",
    "\n",
    "## Escenario:\n",
    "Había una vez un sombrero. El sombrero no contenía conejo, sino una lista de cinco números: 1, 2, 3, 4 y 5.\n",
    "\n",
    "Tu tarea es:\n",
    "\n",
    "- Escribir una línea de código que solicite al usuario que reemplace el número central en la lista con un número entero ingresado por el usuario (Paso 1).\n",
    "\n",
    "- Escribir una línea de código que elimine el último elemento de la lista (Paso 2).\n",
    "\n",
    "- Escribir una línea de código que imprima la longitud de la lista existente (Paso 3)."
   ]
  },
  {
   "cell_type": "markdown",
   "id": "961a631c-23bb-4dd2-9c05-e8e77981291c",
   "metadata": {},
   "source": [
    "## Solución:"
   ]
  },
  {
   "cell_type": "code",
   "execution_count": 1,
   "id": "0bf993b1-90e3-40e7-a230-f232032e8a01",
   "metadata": {},
   "outputs": [
    {
     "name": "stdout",
     "output_type": "stream",
     "text": [
      "La lista es:  [1, 2, 3, 4, 5]\n"
     ]
    },
    {
     "name": "stdin",
     "output_type": "stream",
     "text": [
      "Ingresa un numero entero que sustituira el numero central de la lista:  8\n"
     ]
    },
    {
     "name": "stdout",
     "output_type": "stream",
     "text": [
      "la lista ahora es:  [1, 2, 8, 4, 5] \n",
      "\n",
      "Eliminando el ultimo numero de la lista\n",
      "la lista ahora es:  [1, 2, 8, 4] \n",
      "\n",
      "La longitud de la lista es: 4\n"
     ]
    }
   ],
   "source": [
    "#Remplazar el elemento central por algun otro ----\n",
    "\n",
    "lista = [1, 2, 3, 4, 5]\n",
    "\n",
    "print(\"La lista es: \", lista)\n",
    "num_usuario = int(input(\"Ingresa un numero entero que sustituira el numero central de la lista: \"))\n",
    "\n",
    "longitud = len(lista)\n",
    "    \n",
    "if longitud % 2 != 0:\n",
    "    \n",
    "    posicion_central = (longitud // 2) + 1\n",
    "    lista[posicion_central - 1] = num_usuario #sustituyendo el valor central\n",
    "    \n",
    "else:\n",
    "    print(\"La lista no cuenta con un elemento central\")\n",
    "\n",
    "print(\"la lista ahora es: \", lista, \"\\n\")\n",
    "\n",
    "\n",
    "#Eliminar el ultimo elemento ----\n",
    "print(\"Eliminando el ultimo numero de la lista\")\n",
    "lista.pop()\n",
    "print(\"la lista ahora es: \", lista,\"\\n\")\n",
    "\n",
    "\n",
    "#Imprimir la longitud de la lista ---\n",
    "print(f\"La longitud de la lista es: {len(lista)}\")\n",
    "    "
   ]
  }
 ],
 "metadata": {
  "kernelspec": {
   "display_name": "Python 3 (ipykernel)",
   "language": "python",
   "name": "python3"
  },
  "language_info": {
   "codemirror_mode": {
    "name": "ipython",
    "version": 3
   },
   "file_extension": ".py",
   "mimetype": "text/x-python",
   "name": "python",
   "nbconvert_exporter": "python",
   "pygments_lexer": "ipython3",
   "version": "3.13.5"
  }
 },
 "nbformat": 4,
 "nbformat_minor": 5
}
