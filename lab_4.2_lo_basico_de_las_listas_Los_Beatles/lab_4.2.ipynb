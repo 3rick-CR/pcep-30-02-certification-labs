{
 "cells": [
  {
   "cell_type": "markdown",
   "id": "70e29b2b-0420-4fa7-82ad-6ed6b12a6920",
   "metadata": {},
   "source": [
    " # LABORATORIO 4.2: Lo básico de las listas - Los Beatles"
   ]
  },
  {
   "cell_type": "markdown",
   "id": "5314b0e2-b2a6-4e11-9aaf-3188777ed143",
   "metadata": {},
   "source": [
    "## Objetivos:\n",
    "Familiarizar al estudiante con:\n",
    "\n",
    "* Crear y modificar listas simples.\n",
    "* Utilizar métodos para modificar listas.\n",
    "\n",
    "## Nivel de Dificultad:\n",
    "Fácil\n",
    "\n",
    "## Escenario:\n",
    "Los Beatles fueron uno de los grupos de música más populares de la década de 1960 y la banda más vendida en la historia. Algunas personas los consideran el acto más influyente de la era del rock. De hecho, se incluyeron en la compilación de la revista Time de las 100 personas más influyentes del siglo XX.\n",
    "\n",
    "a banda sufrió muchos cambios de formación, que culminaron en 1962 con la formación de John Lennon, Paul McCartney, George Harrison y Richard Starkey (mejor conocido como Ringo Starr).\n",
    "\n",
    "\n",
    "Escribe un programa que refleje estos cambios y le permita practicar con el concepto de listas. Tu tarea es:\n",
    "\n",
    "* Paso 1: Crea una lista vacía llamada beatles.\n",
    "  \n",
    "* Paso 2: Emplea el método append() para agregar los siguientes miembros de la banda a la lista: John Lennon, Paul McCartney y George Harrison.\n",
    "\n",
    "* Paso 3: Emplea el bucle for y el append() para pedirle al usuario que agregue los siguientes miembros de la banda a la lista: Stu Sutcliffe, y Pete Best.\n",
    "\n",
    "* Paso 4: Usa la instrucción del para eliminar a Stu Sutcliffe y Pete Best de la lista.\n",
    "\n",
    "* Paso 5: Usa el método insert() para agregar a Ringo Starr al principio de la lista."
   ]
  },
  {
   "cell_type": "markdown",
   "id": "31df3fd3-6e0d-4287-a7ba-7f7c13679060",
   "metadata": {},
   "source": [
    "## Solución:"
   ]
  },
  {
   "cell_type": "code",
   "execution_count": 1,
   "id": "15f4e022-fb57-4c41-8a9e-d49f7f7f8628",
   "metadata": {},
   "outputs": [
    {
     "name": "stdout",
     "output_type": "stream",
     "text": [
      "Paso 1: []\n",
      "Paso 2: ['John Lennon', 'Paul McCartney', 'George Harrison']\n"
     ]
    },
    {
     "name": "stdin",
     "output_type": "stream",
     "text": [
      "Ingresa el nombre del nuevo integrante:  Stu Sutcliffe\n",
      "Ingresa el nombre del nuevo integrante:  Pete Best\n"
     ]
    },
    {
     "name": "stdout",
     "output_type": "stream",
     "text": [
      "Paso 3: ['John Lennon', 'Paul McCartney', 'George Harrison', 'Stu Sutcliffe', 'Pete Best']\n",
      "Paso 4: ['John Lennon', 'Paul McCartney', 'George Harrison']\n",
      "Paso 5: ['Ringo Starr', 'John Lennon', 'Paul McCartney', 'George Harrison']\n",
      "Los Fav 4\n"
     ]
    }
   ],
   "source": [
    "#paso 1\n",
    "Beatles = []\n",
    "print(\"Paso 1:\", Beatles)\n",
    "\n",
    "#paso 2\n",
    "Beatles.append(\"John Lennon\")\n",
    "Beatles.append(\"Paul McCartney\")\n",
    "Beatles.append(\"George Harrison\")\n",
    "print(\"Paso 2:\", Beatles)\n",
    "\n",
    "#paso 3\n",
    "for i in range(2):\n",
    "    nuevo = input(\"Ingresa el nombre del nuevo integrante: \")\n",
    "    Beatles.append(nuevo)\n",
    "print(\"Paso 3:\", Beatles)\n",
    "\n",
    "#paso 4\n",
    "del Beatles[3]\n",
    "del Beatles[3]\n",
    "print(\"Paso 4:\", Beatles)\n",
    "\n",
    "#paso 5\n",
    "Beatles.insert(0, \"Ringo Starr\")\n",
    "print(\"Paso 5:\", Beatles)\n",
    "\n",
    "# probando la longitud de la lista\n",
    "print(\"Los Fav\", len(Beatles))"
   ]
  },
  {
   "cell_type": "code",
   "execution_count": null,
   "id": "896c6a23-4a28-4f01-8552-ff58a639a9df",
   "metadata": {},
   "outputs": [],
   "source": []
  }
 ],
 "metadata": {
  "kernelspec": {
   "display_name": "Python 3 (ipykernel)",
   "language": "python",
   "name": "python3"
  },
  "language_info": {
   "codemirror_mode": {
    "name": "ipython",
    "version": 3
   },
   "file_extension": ".py",
   "mimetype": "text/x-python",
   "name": "python",
   "nbconvert_exporter": "python",
   "pygments_lexer": "ipython3",
   "version": "3.13.5"
  }
 },
 "nbformat": 4,
 "nbformat_minor": 5
}
