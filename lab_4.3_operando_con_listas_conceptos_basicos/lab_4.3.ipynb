{
 "cells": [
  {
   "cell_type": "markdown",
   "id": "a6d179a0-e0cc-441d-bd18-baf45e222b36",
   "metadata": {},
   "source": [
    "# LABORATORIO 4.3: Operando con listas - conceptos básicos"
   ]
  },
  {
   "cell_type": "markdown",
   "id": "fd682d4d-53af-4364-8e6a-50074423041f",
   "metadata": {},
   "source": [
    "## Objetivos:\n",
    "Familiarizar al estudiante con:\n",
    "\n",
    "* Indexación de listas.\n",
    "* Utilizar operadores in y not in.\n",
    "\n",
    "## Nivel de Dificultad:\n",
    "Fácil\n",
    "\n",
    "## Escenario:\n",
    "Imagina una lista: no muy larga ni muy complicada, solo una lista simple que contiene algunos números enteros. Algunos de estos números pueden estar repetidos, y esta es la clave. No queremos ninguna repetición. Queremos que sean eliminados.\n",
    "\n",
    "Tu tarea es escribir un programa que elimine todas las repeticiones de números de la lista. El objetivo es tener una lista en la que todos los números aparezcan no más de una vez.\n",
    "\n",
    "Nota: Asume que la lista original está ya dentro del código, no tienes que ingresarla desde el teclado. Por supuesto, puedes mejorar el código y agregar una parte que pueda llevar a cabo una conversación con el usuario y obtener todos los datos.\n",
    "\n",
    "Sugerencia: Te recomendamos que crees una nueva lista como área de trabajo temporal, no necesitas actualizar la lista actual.\n",
    "\n",
    "No hemos proporcionado datos de prueba, ya que sería demasiado fácil. Puedes usar nuestro esqueleto en su lugar."
   ]
  },
  {
   "cell_type": "code",
   "execution_count": 1,
   "id": "3b8d6971-a49a-4c8e-8c1b-63b4e4a28743",
   "metadata": {},
   "outputs": [],
   "source": [
    "#my_list = [1, 2, 4, 4, 1, 4, 2, 6, 2, 9]\n",
    "#\n",
    "# Escribe tu código aquí.\n",
    "#\n",
    "#print(\"La lista con elementos únicos:\")\n",
    "#print(my_list)"
   ]
  },
  {
   "cell_type": "markdown",
   "id": "e037795e-3388-431f-ab1b-be9cf276bdbb",
   "metadata": {},
   "source": [
    "## Solución:"
   ]
  },
  {
   "cell_type": "code",
   "execution_count": 2,
   "id": "b24e841c-1e8c-4dc6-954a-999986732fe3",
   "metadata": {},
   "outputs": [
    {
     "name": "stdout",
     "output_type": "stream",
     "text": [
      "La lista con elementos únicos:\n",
      "[1, 2, 4, 6, 9]\n"
     ]
    }
   ],
   "source": [
    "my_list = [1, 2, 4, 4, 1, 4, 2, 6, 2, 9]\n",
    "nueva_lista = [] \n",
    "\n",
    "for i in my_list:\n",
    "\n",
    "    if i not in nueva_lista:\n",
    "        nueva_lista.append(i)\n",
    "my_list = nueva_lista\n",
    "\n",
    "print(\"La lista con elementos únicos:\")\n",
    "print(my_list)"
   ]
  },
  {
   "cell_type": "code",
   "execution_count": null,
   "id": "28719798-0a04-496e-b5fb-19da9e9b9fda",
   "metadata": {},
   "outputs": [],
   "source": []
  }
 ],
 "metadata": {
  "kernelspec": {
   "display_name": "Python 3 (ipykernel)",
   "language": "python",
   "name": "python3"
  },
  "language_info": {
   "codemirror_mode": {
    "name": "ipython",
    "version": 3
   },
   "file_extension": ".py",
   "mimetype": "text/x-python",
   "name": "python",
   "nbconvert_exporter": "python",
   "pygments_lexer": "ipython3",
   "version": "3.13.5"
  }
 },
 "nbformat": 4,
 "nbformat_minor": 5
}
