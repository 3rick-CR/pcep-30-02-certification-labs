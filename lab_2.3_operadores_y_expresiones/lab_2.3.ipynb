{
 "cells": [
  {
   "cell_type": "markdown",
   "id": "1dab9891-5396-419a-958a-0e227f278240",
   "metadata": {},
   "source": [
    "# LABORATORIO 2.3: Operadores y expresiones"
   ]
  },
  {
   "cell_type": "markdown",
   "id": "6e0b41f4-f269-469d-8f67-5d40e1a949a9",
   "metadata": {},
   "source": [
    "## Objetivos:\n",
    "* Familiarizarse con los conceptos de números, operadores y operaciones aritméticas en Python.\n",
    "* Realizar cálculos básicos.\n",
    "\n",
    "## Nivel de Dificultad:\n",
    "Fácil"
   ]
  },
  {
   "cell_type": "markdown",
   "id": "76a1350d-4b31-44b5-a839-38e69567ce7c",
   "metadata": {},
   "source": [
    "## Escenario:\n",
    "Observa el código en el editor: lee un valor flotante, lo coloca en una variable llamada x, e imprime el valor de la variable llamada y. Tu tarea es completar el código para evaluar la siguiente expresión:"
   ]
  },
  {
   "cell_type": "markdown",
   "id": "fcaf8a3e-3e64-4146-8533-93fddd4f1394",
   "metadata": {},
   "source": [
    "3x³ - 2x² + 3x - 1\n",
    "\n",
    "El resultado debe ser asignado a y."
   ]
  },
  {
   "cell_type": "markdown",
   "id": "9694fcc9-065c-484e-b539-24d30fe05afb",
   "metadata": {},
   "source": [
    "## Codigo \n",
    "x =  # codifica aquí tus datos de prueba\n",
    "\n",
    "x = float(x)\n",
    "\n",
    "#escribe tu código aquí\n",
    "\n",
    "print(\"y =\", y)"
   ]
  },
  {
   "cell_type": "markdown",
   "id": "c3bcc93d-6fd1-4b91-b727-ca4b96a9d890",
   "metadata": {},
   "source": [
    "# Datos de Prueba:\n",
    "Entrada de Muestra:\n",
    "\n",
    "x = 0\n",
    "\n",
    "x = 1\n",
    "\n",
    "x = -1"
   ]
  },
  {
   "cell_type": "markdown",
   "id": "3e976466-83bb-415c-8378-0c385fd511ba",
   "metadata": {},
   "source": [
    "Salida Esperada:\n",
    "\n",
    "y = -1.0\n",
    "\n",
    "y = 3.0\n",
    "\n",
    "y = -9.0"
   ]
  },
  {
   "cell_type": "markdown",
   "id": "736b27aa-3785-4c3d-b818-a38d1a39c9d4",
   "metadata": {},
   "source": [
    "## Solucion:"
   ]
  },
  {
   "cell_type": "code",
   "execution_count": 11,
   "id": "43fa18a2-414d-4d73-b35e-df840539c821",
   "metadata": {},
   "outputs": [
    {
     "name": "stdout",
     "output_type": "stream",
     "text": [
      "y = -1.0\n"
     ]
    }
   ],
   "source": [
    "#cuando x vale 0\n",
    "x = 0\n",
    "x = float(x)\n",
    "\n",
    "y = (3 * x**3) - (2 * x**2) + (3 * x - 1)\n",
    "\n",
    "print(\"y =\", y)"
   ]
  },
  {
   "cell_type": "code",
   "execution_count": 12,
   "id": "1aac9583-1d7c-49be-8bb6-dc1b988d7c45",
   "metadata": {},
   "outputs": [
    {
     "name": "stdout",
     "output_type": "stream",
     "text": [
      "y = 3.0\n"
     ]
    }
   ],
   "source": [
    "#cuando x vale 1\n",
    "x = 1\n",
    "x = float(x)\n",
    "\n",
    "y = (3 * x**3) - (2 * x**2) + (3 * x - 1)\n",
    "\n",
    "print(\"y =\", y)"
   ]
  },
  {
   "cell_type": "code",
   "execution_count": 13,
   "id": "2f974d40-18bc-4795-997a-1967a9a45342",
   "metadata": {},
   "outputs": [
    {
     "name": "stdout",
     "output_type": "stream",
     "text": [
      "y = -9.0\n"
     ]
    }
   ],
   "source": [
    "#cuando x vale -1\n",
    "x = -1\n",
    "x = float(x)\n",
    "\n",
    "y = (3 * x**3) - (2 * x**2) + (3 * x - 1)\n",
    "\n",
    "print(\"y =\", y)"
   ]
  },
  {
   "cell_type": "code",
   "execution_count": null,
   "id": "024119c7-4b85-4ae1-9317-7dc6b7cea709",
   "metadata": {},
   "outputs": [],
   "source": []
  }
 ],
 "metadata": {
  "kernelspec": {
   "display_name": "Python 3 (ipykernel)",
   "language": "python",
   "name": "python3"
  },
  "language_info": {
   "codemirror_mode": {
    "name": "ipython",
    "version": 3
   },
   "file_extension": ".py",
   "mimetype": "text/x-python",
   "name": "python",
   "nbconvert_exporter": "python",
   "pygments_lexer": "ipython3",
   "version": "3.13.5"
  }
 },
 "nbformat": 4,
 "nbformat_minor": 5
}
