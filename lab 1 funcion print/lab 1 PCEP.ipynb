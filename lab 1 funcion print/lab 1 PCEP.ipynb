{
 "cells": [
  {
   "cell_type": "markdown",
   "id": "28ecdc29-6751-46a8-aba8-ed948694c15d",
   "metadata": {},
   "source": [
    "# LAB 01: La función print"
   ]
  },
  {
   "cell_type": "markdown",
   "id": "6aff13a6-f4c4-4a6a-bb97-ab588ff29902",
   "metadata": {},
   "source": [
    "## Objetivos:"
   ]
  },
  {
   "cell_type": "markdown",
   "id": "629fe17b-0b6e-40b6-9f3e-65bfcfbfde8a",
   "metadata": {},
   "source": [
    "* Familiarizarse con la función print() y sus capacidades de formato.\n",
    "* Experimentar con el código de Python."
   ]
  },
  {
   "cell_type": "markdown",
   "id": "14492d82-6a8a-4041-b2ff-55399dcbb5ce",
   "metadata": {},
   "source": [
    "## Nivel de Dificultad:"
   ]
  },
  {
   "cell_type": "markdown",
   "id": "6356ce60-2c43-43fb-b2d2-311d17a67e3d",
   "metadata": {},
   "source": [
    "Muy facil"
   ]
  },
  {
   "cell_type": "markdown",
   "id": "1e5ca5e0-a946-4322-b03d-f119844855ec",
   "metadata": {},
   "source": [
    "# Escenario:\n",
    "El comando print() , el cual es una de las directivas más sencillas de Python, simplemente imprime una línea de texto en la pantalla.\n",
    "\n",
    "En tu primer laboratorio:\n",
    "\n",
    "* Utiliza la función print() para imprimir la linea \"¡Hola, Mundo!\" en la pantalla.\n",
    "Una vez hecho esto, utiliza la función print() nuevamente, pero esta vez imprime tu nombre.\n",
    "\n",
    "\n"
   ]
  },
  {
   "cell_type": "code",
   "execution_count": 1,
   "id": "060cc1e8-e368-426b-989b-5b129b2a2016",
   "metadata": {},
   "outputs": [
    {
     "name": "stdout",
     "output_type": "stream",
     "text": [
      "¡Hola, Mundo!\n"
     ]
    }
   ],
   "source": [
    "print(\"¡Hola, Mundo!\")"
   ]
  },
  {
   "cell_type": "code",
   "execution_count": 2,
   "id": "1c27db03-5511-43cd-9e0d-34b7d26eb2f0",
   "metadata": {},
   "outputs": [
    {
     "name": "stdout",
     "output_type": "stream",
     "text": [
      "Erick\n"
     ]
    }
   ],
   "source": [
    "print(\"Erick\")"
   ]
  },
  {
   "cell_type": "markdown",
   "id": "e30eaa22-463f-49fc-b105-73fe3dee3308",
   "metadata": {},
   "source": [
    "* Elimina las comillas dobles y ejecuta el código. Observa la reacción de Python. ¿Qué tipo de error se produce?"
   ]
  },
  {
   "cell_type": "markdown",
   "id": "eae654c2-28de-4a99-9653-a4b0e9e7273f",
   "metadata": {},
   "source": [
    "R = SyntaxError"
   ]
  },
  {
   "cell_type": "markdown",
   "id": "01b667af-6d03-4e26-86dd-e5d7243d3597",
   "metadata": {},
   "source": [
    "* Luego, elimina los paréntesis, vuelve a poner las comillas dobles y vuelve a ejecutar el código. ¿Qué tipo de error se produce esta vez?"
   ]
  },
  {
   "cell_type": "code",
   "execution_count": null,
   "id": "91c71c8a-d34a-4292-9263-e015d05c0af8",
   "metadata": {},
   "outputs": [],
   "source": [
    "R = SyntaxError"
   ]
  },
  {
   "cell_type": "markdown",
   "id": "b90beb6a-d8d8-4ede-a863-da08ce574a94",
   "metadata": {},
   "source": [
    "\n",
    "* Experimenta tanto como puedas. Cambia las comillas dobles a comillas simples, utiliza múltiples funciones print() en la misma línea y luego en líneas diferentes. Observa que es lo que ocurre."
   ]
  },
  {
   "cell_type": "code",
   "execution_count": 3,
   "id": "8c3c1d1e-8eff-437d-97ca-f223eb3e0b25",
   "metadata": {},
   "outputs": [
    {
     "name": "stdout",
     "output_type": "stream",
     "text": [
      "¡Hola, Mundo!\n"
     ]
    }
   ],
   "source": [
    "print('¡Hola, Mundo!')"
   ]
  },
  {
   "cell_type": "code",
   "execution_count": null,
   "id": "13c127f5-93b3-4b61-8235-69e79d5b088d",
   "metadata": {},
   "outputs": [],
   "source": []
  }
 ],
 "metadata": {
  "kernelspec": {
   "display_name": "Python 3 (ipykernel)",
   "language": "python",
   "name": "python3"
  },
  "language_info": {
   "codemirror_mode": {
    "name": "ipython",
    "version": 3
   },
   "file_extension": ".py",
   "mimetype": "text/x-python",
   "name": "python",
   "nbconvert_exporter": "python",
   "pygments_lexer": "ipython3",
   "version": "3.13.5"
  }
 },
 "nbformat": 4,
 "nbformat_minor": 5
}
