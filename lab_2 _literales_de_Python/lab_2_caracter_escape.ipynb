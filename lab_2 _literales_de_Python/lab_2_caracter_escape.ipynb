{
 "cells": [
  {
   "cell_type": "markdown",
   "id": "65920a9b-0d64-4f54-91aa-9310812f61bf",
   "metadata": {},
   "source": [
    "# LAB 02: Literales de Python - Cadenas"
   ]
  },
  {
   "cell_type": "markdown",
   "id": "00f5f4a7-ddf3-4b9d-a330-6124248073d6",
   "metadata": {},
   "source": [
    "## Objetivos:\n",
    "* Familiarizarse con la función print() y sus capacidades de formato.\n",
    "* Practicar el codificar cadenas.\n",
    "* Experimentar con el código de Python."
   ]
  },
  {
   "cell_type": "markdown",
   "id": "d8608c6a-76a9-4308-8af1-6264f0959682",
   "metadata": {},
   "source": [
    "## Escenario:\n",
    "Escribe una sola línea de código, utilizando la función print(), así como los caracteres de nueva línea y escape, para obtener la salida esperada de tres líneas."
   ]
  },
  {
   "cell_type": "markdown",
   "id": "019c3d74-1337-435b-aba6-f13ee739734b",
   "metadata": {},
   "source": [
    "## Salida Esperada:"
   ]
  },
  {
   "cell_type": "markdown",
   "id": "c1bef9f4-9b46-4cad-9d1c-03860e90e1df",
   "metadata": {},
   "source": [
    "\"Estoy\"\n",
    "\"\"aprendiendo\"\"\n",
    "\"\"\"Python\"\"\""
   ]
  },
  {
   "cell_type": "markdown",
   "id": "30c2458d-8d9a-4e56-8b7c-3720b726d2de",
   "metadata": {},
   "source": [
    "## Solucion:"
   ]
  },
  {
   "cell_type": "code",
   "execution_count": 3,
   "id": "c185959a-776a-4111-a936-73f2e54eadc5",
   "metadata": {},
   "outputs": [
    {
     "name": "stdout",
     "output_type": "stream",
     "text": [
      "Estoy\n",
      "\"\"aprendiendo\"\"\n",
      "\"\"\"Python\"\"\"\n"
     ]
    }
   ],
   "source": [
    "print(\"Estoy\\n\\\"\\\"aprendiendo\\\"\\\"\\n\\\"\\\"\\\"Python\\\"\\\"\\\"\")"
   ]
  }
 ],
 "metadata": {
  "kernelspec": {
   "display_name": "Python 3 (ipykernel)",
   "language": "python",
   "name": "python3"
  },
  "language_info": {
   "codemirror_mode": {
    "name": "ipython",
    "version": 3
   },
   "file_extension": ".py",
   "mimetype": "text/x-python",
   "name": "python",
   "nbconvert_exporter": "python",
   "pygments_lexer": "ipython3",
   "version": "3.13.5"
  }
 },
 "nbformat": 4,
 "nbformat_minor": 5
}
