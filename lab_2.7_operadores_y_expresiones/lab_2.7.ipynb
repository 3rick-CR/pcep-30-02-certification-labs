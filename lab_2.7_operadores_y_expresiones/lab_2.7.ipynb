{
  "cells": [
    {
      "cell_type": "markdown",
      "id": "089c2244-db10-49a9-88a4-76393fa61212",
      "metadata": {
        "id": "089c2244-db10-49a9-88a4-76393fa61212"
      },
      "source": [
        "## LABORATORIO 2.7: Operadores y expresiones"
      ]
    },
    {
      "cell_type": "markdown",
      "id": "be756844-c7bd-4572-a857-c2603241f7db",
      "metadata": {
        "id": "be756844-c7bd-4572-a857-c2603241f7db"
      },
      "source": [
        "## Objetivos\n",
        "* Mejorar la habilidad de implementar números, operadores y operaciones aritméticas en Python.\n",
        "* Utilizar la función print() y sus capacidades de formato.\n",
        "* Aprender a expresar fenómenos del día a día en términos de un lenguaje de programación.\n",
        "\n",
        "## Nivel de Dificultad\n",
        "Fácil"
      ]
    },
    {
      "cell_type": "markdown",
      "id": "5908e300-15a8-410a-af18-4d776f9f679a",
      "metadata": {
        "id": "5908e300-15a8-410a-af18-4d776f9f679a"
      },
      "source": [
        "## Escenario\n",
        "La tarea es preparar un código simple para evaluar o encontrar el tiempo final de un periodo de tiempo dado, expresándolo en horas y minutos. Las horas van de 0 a 23 y los minutos de 0 a 59. El resultado debe ser mostrado en la consola.\n",
        "\n",
        "Por ejemplo, si el evento comienza a las 12:17 y dura 59 minutos, terminará a las 13:16.\n",
        "\n",
        "No te preocupes si tu código no es perfecto, está bien si acepta una hora invalida, lo más importante es que el código produzca una salida correcta acorde a la entrada dada.\n",
        "\n",
        "Prueba el código cuidadosamente.\n",
        "\n",
        "Pista: utilizar el operador % puede ser clave para el éxito."
      ]
    },
    {
      "cell_type": "markdown",
      "id": "d7cdd04f-3a4d-4f39-a2c7-ea9a9ab21e01",
      "metadata": {
        "id": "d7cdd04f-3a4d-4f39-a2c7-ea9a9ab21e01"
      },
      "source": [
        "## Solución:"
      ]
    },
    {
      "cell_type": "markdown",
      "id": "605dbf18-92ac-4926-a732-aae88a170408",
      "metadata": {
        "id": "605dbf18-92ac-4926-a732-aae88a170408"
      },
      "source": [
        "## Datos de Prueba test 1\n",
        "Entrada de muestra:\n",
        "\n",
        "12\n",
        "\n",
        "17\n",
        "\n",
        "59\n",
        "\n",
        "Salida esperada: 13:16"
      ]
    },
    {
      "cell_type": "code",
      "execution_count": null,
      "id": "00617194-0970-4e01-bb6f-be0bb8d0976c",
      "metadata": {
        "id": "00617194-0970-4e01-bb6f-be0bb8d0976c",
        "outputId": "bb036a61-809f-4a5b-b5ac-586cf9b05088"
      },
      "outputs": [
        {
          "name": "stdout",
          "output_type": "stream",
          "text": [
            "Hora de inicio: 12:17\n",
            "Con una duracion del evento de: 59 minutos\n",
            "Usted saldria a las 13:16\n"
          ]
        }
      ],
      "source": [
        "#Test 1\n",
        "hora_inicio = 12 #hrs\n",
        "minutos_inicio = 17 #min\n",
        "duracion_evento = 59 #min\n",
        "\n",
        "#convertir la hr inicial a minutos y sumar todo\n",
        "total_en_minutos = minutos_inicio + (60 * hora_inicio) + duracion_evento\n",
        "\n",
        "#dividir el total de minutos entre 60 para sacar la hora y sin decimales con el int\n",
        "hora_final = int(total_en_minutos / 60)\n",
        "\n",
        "#sacar el residuo de la operacion de arriba para saber el numero de minutos sobrantes\n",
        "minutos_final = total_en_minutos % 60\n",
        "\n",
        "#si hora final es mayor a 24 entonces, hora final sera el residuo de el total de hrs entre 24\n",
        "if hora_final > 24:\n",
        "   hora_final %= 24\n",
        "\n",
        "\n",
        "print(f\"Hora de inicio: {hora_inicio}:{minutos_inicio}\")\n",
        "print(f\"Con una duracion del evento de: {duracion_evento} minutos\")\n",
        "print(f\"Usted saldria a las {hora_final}:{minutos_final}\")"
      ]
    },
    {
      "cell_type": "markdown",
      "id": "7047bfcf-e478-4c53-8580-06a84afe7793",
      "metadata": {
        "id": "7047bfcf-e478-4c53-8580-06a84afe7793"
      },
      "source": [
        "## Datos de prueba test 2\n",
        "\n",
        "Entrada de muestra:\n",
        "\n",
        "23\n",
        "\n",
        "58\n",
        "\n",
        "642\n",
        "\n",
        "Salida esperada: 10:40\n"
      ]
    },
    {
      "cell_type": "code",
      "execution_count": null,
      "id": "cd4a11a8-f421-4fd6-8e24-1d7f7bcf4f89",
      "metadata": {
        "id": "cd4a11a8-f421-4fd6-8e24-1d7f7bcf4f89",
        "outputId": "a01ebbd8-4af9-4417-b18e-67175bb2f2a5"
      },
      "outputs": [
        {
          "name": "stdout",
          "output_type": "stream",
          "text": [
            "Hora de inicio: 23:58\n",
            "Con una duracion del evento de: 642 minutos\n",
            "Usted saldria a las 10:40\n"
          ]
        }
      ],
      "source": [
        "#Test 2\n",
        "hora_inicio = 23 #hrs\n",
        "minutos_inicio = 58 #min\n",
        "duracion_evento = 642 #min\n",
        "\n",
        "#convertir la hr inicial a minutos y sumar todo\n",
        "total_en_minutos = minutos_inicio + (60 * hora_inicio) + duracion_evento\n",
        "\n",
        "#dividir el total de minutos entre 60 para sacar la hora y sin decimales con el int\n",
        "hora_final = int(total_en_minutos / 60)\n",
        "\n",
        "#sacar el residuo de la operacion de arriba para saber el numero de minutos sobrantes\n",
        "minutos_final = total_en_minutos % 60\n",
        "\n",
        "#si hora final es mayor a 24 entonces, hora final sera el residuo de el total de hrs entre 24\n",
        "if hora_final > 24:\n",
        "   hora_final %= 24\n",
        "\n",
        "\n",
        "print(f\"Hora de inicio: {hora_inicio}:{minutos_inicio}\")\n",
        "print(f\"Con una duracion del evento de: {duracion_evento} minutos\")\n",
        "print(f\"Usted saldria a las {hora_final}:{minutos_final}\")"
      ]
    },
    {
      "cell_type": "markdown",
      "id": "6573d8f9-52ea-4f45-9671-25b4e91b0a1b",
      "metadata": {
        "id": "6573d8f9-52ea-4f45-9671-25b4e91b0a1b"
      },
      "source": [
        "## Datos de prueba test 3\n",
        "\n",
        "Entrada de muestra:\n",
        "\n",
        "0\n",
        "\n",
        "1\n",
        "\n",
        "2939\n",
        "\n",
        "Salida esperada: 1:0"
      ]
    },
    {
      "cell_type": "code",
      "execution_count": null,
      "id": "b62143fc-b02d-4ab1-b6a7-39f75e38adcc",
      "metadata": {
        "id": "b62143fc-b02d-4ab1-b6a7-39f75e38adcc",
        "outputId": "4c5032b9-d463-41d5-9ba9-0d3899965992"
      },
      "outputs": [
        {
          "name": "stdout",
          "output_type": "stream",
          "text": [
            "Hora de inicio: 0:1\n",
            "Con una duracion del evento de: 2939 minutos\n",
            "Usted saldria a las 1:0\n"
          ]
        }
      ],
      "source": [
        "#Test 3\n",
        "hora_inicio = 0 #hrs\n",
        "minutos_inicio = 1 #min\n",
        "duracion_evento = 2939 #min\n",
        "\n",
        "#convertir la hr inicial a minutos y sumar todo\n",
        "total_en_minutos = minutos_inicio + (60 * hora_inicio) + duracion_evento\n",
        "\n",
        "#dividir el total de minutos entre 60 para sacar la hora y sin decimales con el int\n",
        "hora_final = int(total_en_minutos / 60)\n",
        "\n",
        "#sacar el residuo de la operacion de arriba para saber el numero de minutos sobrantes\n",
        "minutos_final = total_en_minutos % 60\n",
        "\n",
        "#si hora final es mayor a 24 entonces, hora final sera el residuo de el total de hrs entre 24\n",
        "if hora_final > 24:\n",
        "   hora_final %= 24\n",
        "\n",
        "\n",
        "print(f\"Hora de inicio: {hora_inicio}:{minutos_inicio}\")\n",
        "print(f\"Con una duracion del evento de: {duracion_evento} minutos\")\n",
        "print(f\"Usted saldria a las {hora_final}:{minutos_final}\")"
      ]
    }
  ],
  "metadata": {
    "kernelspec": {
      "display_name": "Python 3 (ipykernel)",
      "language": "python",
      "name": "python3"
    },
    "language_info": {
      "codemirror_mode": {
        "name": "ipython",
        "version": 3
      },
      "file_extension": ".py",
      "mimetype": "text/x-python",
      "name": "python",
      "nbconvert_exporter": "python",
      "pygments_lexer": "ipython3",
      "version": "3.13.5"
    },
    "colab": {
      "provenance": []
    }
  },
  "nbformat": 4,
  "nbformat_minor": 5
}