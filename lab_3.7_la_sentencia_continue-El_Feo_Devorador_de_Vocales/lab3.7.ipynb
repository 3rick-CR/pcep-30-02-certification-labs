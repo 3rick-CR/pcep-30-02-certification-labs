{
 "cells": [
  {
   "cell_type": "markdown",
   "id": "e0ac7731-0c70-4b56-be78-b9eaa509a0ac",
   "metadata": {},
   "source": [
    "# LABORATORIO 3.7: La sentencia continue - El Feo Devorador de Vocales"
   ]
  },
  {
   "cell_type": "markdown",
   "id": "ffa3557c-caf2-4679-b6e0-d20aa27185b7",
   "metadata": {},
   "source": [
    "## Objectivos:\n",
    "Familiarizar al estudiante con:\n",
    "\n",
    "* Utilizar la instrucción continue en los bucles.\n",
    "* Reflejar situaciones de la vida real en código de computadora.\n",
    "\n",
    "## Nivel de Dificultad:\n",
    "Fácil\n",
    "\n",
    "## Escenario:\n",
    "La sentencia continue se usa para omitir el bloque actual y avanzar a la siguiente iteración, sin ejecutar las sentencias dentro del bucle.\n",
    "\n",
    "Se puede usar tanto con while y for.\n",
    "\n",
    "Tu tarea aquí es muy especial: ¡Debes diseñar un devorador de vocales! Escribe un programa que use:\n",
    "\n",
    "* Un bucle for.\n",
    "* El concepto de ejecución condicional (if-elif-else).\n",
    "* La sentencia continue.\n",
    "\n",
    "Tu programa debe:\n",
    "\n",
    "* Pedir al usuario que ingrese una palabra.\n",
    "  \n",
    "* Utiliza user_word = user_word.upper() para convertir la palabra ingresada por el usuario a mayúsculas; hablaremos sobre los llamados métodos de cadena y el upper() muy pronto, no te preocupes.\n",
    "\n",
    "* Utiliza la ejecución condicional y la instrucción continue para \"comer\" las siguientes vocales A , E , I , O , U de la palabra ingresada.\n",
    "\n",
    "* Imprime las letras no consumidas en la pantalla, cada una de ellas en una línea separada."
   ]
  },
  {
   "cell_type": "markdown",
   "id": "15ff9cb6-027a-4592-aa47-14e9ec96364c",
   "metadata": {},
   "source": [
    "## Datos de Prueba:\n",
    "\n",
    "1- Entrada de muestra: Gregory\n",
    "\n",
    "Salida esperada:\n",
    "\n",
    "G\n",
    "\n",
    "R\n",
    "\n",
    "G\n",
    "\n",
    "R\n",
    "\n",
    "Y"
   ]
  },
  {
   "cell_type": "markdown",
   "id": "09adda2d-fca3-4210-bedb-0fbbaf67c13b",
   "metadata": {},
   "source": [
    "2- Entrada de muestra: abstemious\n",
    "\n",
    "Salida esperada:\n",
    "\n",
    "B\n",
    "\n",
    "S\n",
    "\n",
    "T\n",
    "\n",
    "M\n",
    "\n",
    "S"
   ]
  },
  {
   "cell_type": "markdown",
   "id": "f1f91fce-19a9-41ca-bee0-f1c81f026ac3",
   "metadata": {},
   "source": [
    "3- Entrada de muestra: IOUEA\n",
    "\n",
    "Salida esperada: ningun caracter"
   ]
  },
  {
   "cell_type": "code",
   "execution_count": 1,
   "id": "d37a273b-b4f3-4a67-aa19-b1190f802795",
   "metadata": {},
   "outputs": [
    {
     "name": "stdin",
     "output_type": "stream",
     "text": [
      "Ingresa una palabra:  Gregory\n"
     ]
    },
    {
     "name": "stdout",
     "output_type": "stream",
     "text": [
      "G\n",
      "R\n",
      "G\n",
      "R\n",
      "Y\n"
     ]
    }
   ],
   "source": [
    "#Test 1\n",
    "\n",
    "user_word = input(\"Ingresa una palabra: \").upper()\n",
    "\n",
    "for i in user_word:\n",
    "     if i in \"AEIOU\":\n",
    "         continue\n",
    "     else:\n",
    "         print(i)"
   ]
  },
  {
   "cell_type": "code",
   "execution_count": 2,
   "id": "4a6b822e-f17e-4899-9ff8-c356015b15d8",
   "metadata": {},
   "outputs": [
    {
     "name": "stdin",
     "output_type": "stream",
     "text": [
      "Ingresa una palabra:  abstemious\n"
     ]
    },
    {
     "name": "stdout",
     "output_type": "stream",
     "text": [
      "B\n",
      "S\n",
      "T\n",
      "M\n",
      "S\n"
     ]
    }
   ],
   "source": [
    "#Test 2\n",
    "\n",
    "user_word = input(\"Ingresa una palabra: \").upper()\n",
    "\n",
    "for i in user_word:\n",
    "     if i in \"AEIOU\":\n",
    "         continue\n",
    "     else:\n",
    "         print(i)"
   ]
  },
  {
   "cell_type": "code",
   "execution_count": 3,
   "id": "10ed2b81-cb3e-48ac-9eef-af1eb2438fdd",
   "metadata": {},
   "outputs": [
    {
     "name": "stdin",
     "output_type": "stream",
     "text": [
      "Ingresa una palabra:  IOUEA\n"
     ]
    }
   ],
   "source": [
    "#Test 3\n",
    "\n",
    "user_word = input(\"Ingresa una palabra: \").upper()\n",
    "\n",
    "for i in user_word:\n",
    "     if i in \"AEIOU\":\n",
    "         continue\n",
    "     else:\n",
    "         print(i)"
   ]
  }
 ],
 "metadata": {
  "kernelspec": {
   "display_name": "Python 3 (ipykernel)",
   "language": "python",
   "name": "python3"
  },
  "language_info": {
   "codemirror_mode": {
    "name": "ipython",
    "version": 3
   },
   "file_extension": ".py",
   "mimetype": "text/x-python",
   "name": "python",
   "nbconvert_exporter": "python",
   "pygments_lexer": "ipython3",
   "version": "3.13.5"
  }
 },
 "nbformat": 4,
 "nbformat_minor": 5
}
