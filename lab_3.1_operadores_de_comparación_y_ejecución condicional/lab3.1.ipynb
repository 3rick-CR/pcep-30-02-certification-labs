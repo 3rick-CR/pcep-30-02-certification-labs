{
 "cells": [
  {
   "cell_type": "markdown",
   "id": "2995b976-ab9a-400a-a604-27f236e8f0dd",
   "metadata": {},
   "source": [
    "# LABORATORIO 3.1: Operadores de comparación y ejecución condicional"
   ]
  },
  {
   "cell_type": "markdown",
   "id": "979cfd57-4c1b-49f6-9a0d-c7460970f3fd",
   "metadata": {},
   "source": [
    "## Objetivos:\n",
    "* Familiarizarse con la función input().\n",
    "* Familiarizarse con los operadores de comparación en Python.\n",
    "* Familiarizarse con el concepto de ejecución condicional.\n",
    "  \n",
    "## Nivel de Dificultad:\n",
    "Fácil"
   ]
  },
  {
   "cell_type": "markdown",
   "id": "ba5a09ca-d792-47a5-a8b7-215fa879ed5b",
   "metadata": {},
   "source": [
    "## Escenario:\n",
    "Espatifilo, más comúnmente conocida como la planta de cuna de Moisés o flor de la paz, es una de las plantas para interiores más populares que filtra las toxinas dañinas del aire. Algunas de las toxinas que neutraliza incluyen benceno, formaldehído y amoníaco.\n",
    "\n",
    "Imagina que tu programa de computadora ama estas plantas. Cada vez que recibe una entrada en forma de la palabra Espatifilo, grita involuntariamente a la consola la siguiente cadena: \"¡Espatifilo es la mejor planta de todas!\"\n",
    "\n",
    "Escribe un programa que utilice el concepto de ejecución condicional, tome una cadena como entrada y que:\n",
    "\n",
    "* Imprima el enunciado \"Si, ¡El ESPATIFILIO! es la mejor planta de todos los tiempos!\" en la pantalla si la cadena ingresada es \"ESPATIFILIO\".\n",
    "  \n",
    "* Imprima \"No, ¡quiero un gran ESPATIFILIO!\" si la cadena ingresada es \"espatifilo\".\n",
    "\n",
    "\n",
    "* Imprima \"¡ESPATIFILIO!, ¡No [entrada]!\" de lo contrario. Nota: [entrada] es la cadena que se toma como entrada."
   ]
  },
  {
   "cell_type": "markdown",
   "id": "659f5329-4882-44e3-8982-089901c0c3c4",
   "metadata": {},
   "source": [
    "## Datos de Prueba:\n",
    "\n",
    "1- Entrada de muestra: espatifilo\n",
    "\n",
    "   Resultado esperado: No, ¡quiero un gran ESPATIFILIO!\n",
    "\n",
    "2- Entrada de ejemplo: pelargonio\n",
    "\n",
    "   Resultado esperado: !ESPATIFILIO!, ¡No pelargonio!\n",
    "\n",
    "3- Entrada de muestra: ESPATIFILIO\n",
    "\n",
    "   Resultado esperado: Si, ¡El ESPATIFILIO es la mejor planta de todos los tiempos!"
   ]
  },
  {
   "cell_type": "markdown",
   "id": "c8fde289-95ea-4af7-94e1-824a7b92d1de",
   "metadata": {},
   "source": [
    "## Solucion:"
   ]
  },
  {
   "cell_type": "code",
   "execution_count": 1,
   "id": "99f801d8-2f5e-4f58-b5a2-a165c6df7119",
   "metadata": {},
   "outputs": [
    {
     "name": "stdin",
     "output_type": "stream",
     "text": [
      "Introduce una palabra:  espatifilo\n"
     ]
    },
    {
     "name": "stdout",
     "output_type": "stream",
     "text": [
      "No, ¡quiero un gran ESPATIFILIO!\n"
     ]
    }
   ],
   "source": [
    "#Test 1\n",
    "entrada = input(\"Introduce una palabra: \")\n",
    "\n",
    "if entrada == \"ESPATIFILIO\":\n",
    "    print(\"Si, ¡El ESPATIFILIO! es la mejor planta de todos los tiempos!\")\n",
    "elif entrada == \"espatifilo\":\n",
    "    print(\"No, ¡quiero un gran ESPATIFILIO!\")\n",
    "else:\n",
    "    print(f\"¡ESPATIFILIO!, ¡No {entrada}!\")"
   ]
  },
  {
   "cell_type": "code",
   "execution_count": 2,
   "id": "b0c9c658-0abb-473a-810f-29b10ee6e47f",
   "metadata": {},
   "outputs": [
    {
     "name": "stdin",
     "output_type": "stream",
     "text": [
      "Introduce una palabra:  pelargonio\n"
     ]
    },
    {
     "name": "stdout",
     "output_type": "stream",
     "text": [
      "¡ESPATIFILIO!, ¡No pelargonio!\n"
     ]
    }
   ],
   "source": [
    "#Test 2\n",
    "entrada = input(\"Introduce una palabra: \")\n",
    "\n",
    "if entrada == \"ESPATIFILIO\":\n",
    "    print(\"Si, ¡El ESPATIFILIO! es la mejor planta de todos los tiempos!\")\n",
    "elif entrada == \"espatifilo\":\n",
    "    print(\"No, ¡quiero un gran ESPATIFILIO!\")\n",
    "else:\n",
    "    print(f\"¡ESPATIFILIO!, ¡No {entrada}!\")"
   ]
  },
  {
   "cell_type": "code",
   "execution_count": 3,
   "id": "3fbd8177-86cf-4df5-9830-6a9b076eb6ba",
   "metadata": {},
   "outputs": [
    {
     "name": "stdin",
     "output_type": "stream",
     "text": [
      "Introduce una palabra:  ESPATIFILIO\n"
     ]
    },
    {
     "name": "stdout",
     "output_type": "stream",
     "text": [
      "Si, ¡El ESPATIFILIO! es la mejor planta de todos los tiempos!\n"
     ]
    }
   ],
   "source": [
    "#Test 3\n",
    "entrada = input(\"Introduce una palabra: \")\n",
    "\n",
    "if entrada == \"ESPATIFILIO\":\n",
    "    print(\"Si, ¡El ESPATIFILIO! es la mejor planta de todos los tiempos!\")\n",
    "elif entrada == \"espatifilo\":\n",
    "    print(\"No, ¡quiero un gran ESPATIFILIO!\")\n",
    "else:\n",
    "    print(f\"¡ESPATIFILIO!, ¡No {entrada}!\")"
   ]
  }
 ],
 "metadata": {
  "kernelspec": {
   "display_name": "Python 3 (ipykernel)",
   "language": "python",
   "name": "python3"
  },
  "language_info": {
   "codemirror_mode": {
    "name": "ipython",
    "version": 3
   },
   "file_extension": ".py",
   "mimetype": "text/x-python",
   "name": "python",
   "nbconvert_exporter": "python",
   "pygments_lexer": "ipython3",
   "version": "3.13.5"
  }
 },
 "nbformat": 4,
 "nbformat_minor": 5
}
