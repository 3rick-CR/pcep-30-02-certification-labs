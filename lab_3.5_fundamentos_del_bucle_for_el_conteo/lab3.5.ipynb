{
 "cells": [
  {
   "cell_type": "markdown",
   "id": "13051bb0-9856-4bc7-aaf1-88660163411f",
   "metadata": {},
   "source": [
    "# LABORATORIO 3.5: Fundamentos del bucle for: el conteo"
   ]
  },
  {
   "cell_type": "markdown",
   "id": "1cbac2b2-ebf4-438b-bacb-edaa6380e178",
   "metadata": {},
   "source": [
    "## Objetivos:\n",
    "Familiarizar al estudiante con:\n",
    "\n",
    "* Utilizar el bucle for.\n",
    "* Reflejar situaciones de la vida real en código de computadora.\n",
    "\n",
    "## Nivel de dificultad:\n",
    "Muy fácil\n",
    "\n",
    "## Escenario:\n",
    "¿Sabes lo que es Mississippi? Bueno, es el nombre de uno de los estados y ríos en los Estados Unidos. El río Mississippi tiene aproximadamente 2,340 millas de largo, lo que lo convierte en el segundo río más largo de los Estados Unidos (el más largo es el río Missouri). ¡Es tan largo que una sola gota de agua necesita 90 días para recorrer toda su longitud!\n",
    "\n",
    "La palabra Mississippi también se usa para un propósito ligeramente diferente: para contar mississippily (mississippimente).\n",
    "\n",
    "Si no estás familiarizado con la frase, estamos aquí para explicarte lo que significa: se utiliza para contar segundos.\n",
    "\n",
    "La idea detrás de esto es que agregar la palabra Mississippi a un número al contar los segundos en voz alta hace que suene más cercano al reloj, y por lo tanto \"un Mississippi, dos Mississippi, tres Mississippi\" tomará aproximadamente unos tres segundos reales de tiempo. A menudo lo usan los niños que juegan al escondite para asegurarse de que el buscador haga un conteo honesto.\n",
    "\n",
    "\n",
    "Tu tarea es muy simple aquí: escribe un programa que use un bucle for para \"contar de forma mississippi\" hasta cinco. Habiendo contado hasta cinco, el programa debería imprimir en la pantalla el mensaje final \"¡Listos o no, ahí voy!\"\n",
    "\n",
    "Utiliza el esqueleto que hemos proporcionado en el editor:"
   ]
  },
  {
   "cell_type": "code",
   "execution_count": 1,
   "id": "29a5768e-21fc-4c95-ad0d-db7e1f2cf50e",
   "metadata": {},
   "outputs": [],
   "source": [
    "\n",
    "#import time\n",
    "\n",
    "    # Escribe un bucle for que cuente hasta cinco.\n",
    "    # Cuerpo del bucle: imprime el número de iteración del bucle y la palabra \"Mississippi\".\n",
    "    # Cuerpo del bucle - usar: time.sleep (1)\n",
    "\n",
    "# Escribe una función de impresión con el mensaje final.\n"
   ]
  },
  {
   "cell_type": "markdown",
   "id": "1f33532a-245d-44b5-b0a2-a51da29937b8",
   "metadata": {},
   "source": [
    "## Salida esperada:\n",
    "\n",
    "1 Mississippi\n",
    "\n",
    "2 Mississippi\n",
    "\n",
    "3 Mississippi\n",
    "\n",
    "4 Mississippi\n",
    "\n",
    "5 Mississippi"
   ]
  },
  {
   "cell_type": "markdown",
   "id": "961d35f6-b695-470b-a502-8d486d1ae4a4",
   "metadata": {},
   "source": [
    "## Solucion:"
   ]
  },
  {
   "cell_type": "code",
   "execution_count": 2,
   "id": "78e1c50b-3e6f-489d-8c5f-0c5d6ec3fec4",
   "metadata": {},
   "outputs": [
    {
     "name": "stdout",
     "output_type": "stream",
     "text": [
      "1 Mississippi\n",
      "2 Mississippi\n",
      "3 Mississippi\n",
      "4 Mississippi\n",
      "5 Mississippi\n",
      "¡Listos o no, ahí voy!\n"
     ]
    }
   ],
   "source": [
    "import time\n",
    "\n",
    "for i in range(1,6):\n",
    "    print(i, \"Mississippi\")\n",
    "    time.sleep (1)\n",
    "\n",
    "print(\"¡Listos o no, ahí voy!\")"
   ]
  },
  {
   "cell_type": "code",
   "execution_count": null,
   "id": "edd8e779-e165-4ce5-bc5c-75d19b41eef7",
   "metadata": {},
   "outputs": [],
   "source": []
  }
 ],
 "metadata": {
  "kernelspec": {
   "display_name": "Python 3 (ipykernel)",
   "language": "python",
   "name": "python3"
  },
  "language_info": {
   "codemirror_mode": {
    "name": "ipython",
    "version": 3
   },
   "file_extension": ".py",
   "mimetype": "text/x-python",
   "name": "python",
   "nbconvert_exporter": "python",
   "pygments_lexer": "ipython3",
   "version": "3.13.5"
  }
 },
 "nbformat": 4,
 "nbformat_minor": 5
}
